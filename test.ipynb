{
 "cells": [
  {
   "cell_type": "code",
   "execution_count": null,
   "metadata": {
    "collapsed": true
   },
   "outputs": [],
   "source": [
    "import requests\n",
    "import pandas as pd"
   ]
  },
  {
   "cell_type": "code",
   "execution_count": null,
   "outputs": [],
   "source": [
    "url = \"https://backend.taiwanindex.com.tw/api/indexes/t00/records?start=1970-11-02&end=1975-06-08\"\n",
    "response = requests.get(url)\n",
    "\n",
    "close = response.json()[\"data\"][\"datasets\"][1][\"data\"]\n",
    "timestamps = response.json()[\"data\"][\"labels\"]\n",
    "\n",
    "mid_small_300 = {\"Date\": timestamps, \"mid_small_300\": close}\n",
    "\n",
    "df_mid_small_300 = pd.DataFrame(mid_small_300)\n",
    "df_mid_small_300.Date = pd.to_datetime(df_mid_small_300.Date, format='%Y/%m/%d')\n",
    "df_mid_small_300 = df_mid_small_300.set_index(['Date'])\n",
    "df_mid_small_300"
   ],
   "metadata": {
    "collapsed": false
   }
  }
 ],
 "metadata": {
  "kernelspec": {
   "display_name": "Python 3",
   "language": "python",
   "name": "python3"
  },
  "language_info": {
   "codemirror_mode": {
    "name": "ipython",
    "version": 2
   },
   "file_extension": ".py",
   "mimetype": "text/x-python",
   "name": "python",
   "nbconvert_exporter": "python",
   "pygments_lexer": "ipython2",
   "version": "2.7.6"
  }
 },
 "nbformat": 4,
 "nbformat_minor": 0
}
