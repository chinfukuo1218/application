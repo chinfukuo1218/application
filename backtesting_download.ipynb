{
 "cells": [
  {
   "cell_type": "code",
   "execution_count": 1,
   "metadata": {
    "collapsed": true,
    "ExecuteTime": {
     "end_time": "2023-06-08T14:31:37.616974300Z",
     "start_time": "2023-06-08T14:31:37.253492500Z"
    }
   },
   "outputs": [],
   "source": [
    "import requests\n",
    "import pandas as pd"
   ]
  },
  {
   "cell_type": "markdown",
   "source": [
    "### 加權指數"
   ],
   "metadata": {
    "collapsed": false
   }
  },
  {
   "cell_type": "code",
   "execution_count": 17,
   "outputs": [
    {
     "data": {
      "text/plain": "Empty DataFrame\nColumns: [mid_small_300]\nIndex: []",
      "text/html": "<div>\n<style scoped>\n    .dataframe tbody tr th:only-of-type {\n        vertical-align: middle;\n    }\n\n    .dataframe tbody tr th {\n        vertical-align: top;\n    }\n\n    .dataframe thead th {\n        text-align: right;\n    }\n</style>\n<table border=\"1\" class=\"dataframe\">\n  <thead>\n    <tr style=\"text-align: right;\">\n      <th></th>\n      <th>mid_small_300</th>\n    </tr>\n    <tr>\n      <th>Date</th>\n      <th></th>\n    </tr>\n  </thead>\n  <tbody>\n  </tbody>\n</table>\n</div>"
     },
     "execution_count": 17,
     "metadata": {},
     "output_type": "execute_result"
    }
   ],
   "source": [
    "url = \"https://backend.taiwanindex.com.tw/api/indexes/t00/records?start=1970-11-02&end=1975-06-08\"\n",
    "response = requests.get(url)\n",
    "\n",
    "close = response.json()[\"data\"][\"datasets\"][1][\"data\"]\n",
    "timestamps = response.json()[\"data\"][\"labels\"]\n",
    "\n",
    "mid_small_300 = {\"Date\": timestamps, \"mid_small_300\": close}\n",
    "\n",
    "df_mid_small_300 = pd.DataFrame(mid_small_300)\n",
    "df_mid_small_300.Date = pd.to_datetime(df_mid_small_300.Date, format='%Y/%m/%d')\n",
    "df_mid_small_300 = df_mid_small_300.set_index(['Date'])\n",
    "df_mid_small_300"
   ],
   "metadata": {
    "collapsed": false,
    "ExecuteTime": {
     "end_time": "2023-06-08T14:57:09.284536800Z",
     "start_time": "2023-06-08T14:57:04.026757800Z"
    }
   }
  },
  {
   "cell_type": "markdown",
   "source": [
    "### 中小300"
   ],
   "metadata": {
    "collapsed": false
   }
  },
  {
   "cell_type": "code",
   "execution_count": 15,
   "outputs": [
    {
     "data": {
      "text/plain": "           mid_small_300\nDate                    \n2018-12-24       5023.20\n2018-12-25       4959.28\n2018-12-26       4926.42\n2018-12-27       4993.35\n2018-12-28       5002.89\n...                  ...\n2023-06-02       11584.5\n2023-06-05      11666.34\n2023-06-06      11640.77\n2023-06-07      11727.12\n2023-06-08      11574.78\n\n[1081 rows x 1 columns]",
      "text/html": "<div>\n<style scoped>\n    .dataframe tbody tr th:only-of-type {\n        vertical-align: middle;\n    }\n\n    .dataframe tbody tr th {\n        vertical-align: top;\n    }\n\n    .dataframe thead th {\n        text-align: right;\n    }\n</style>\n<table border=\"1\" class=\"dataframe\">\n  <thead>\n    <tr style=\"text-align: right;\">\n      <th></th>\n      <th>mid_small_300</th>\n    </tr>\n    <tr>\n      <th>Date</th>\n      <th></th>\n    </tr>\n  </thead>\n  <tbody>\n    <tr>\n      <th>2018-12-24</th>\n      <td>5023.20</td>\n    </tr>\n    <tr>\n      <th>2018-12-25</th>\n      <td>4959.28</td>\n    </tr>\n    <tr>\n      <th>2018-12-26</th>\n      <td>4926.42</td>\n    </tr>\n    <tr>\n      <th>2018-12-27</th>\n      <td>4993.35</td>\n    </tr>\n    <tr>\n      <th>2018-12-28</th>\n      <td>5002.89</td>\n    </tr>\n    <tr>\n      <th>...</th>\n      <td>...</td>\n    </tr>\n    <tr>\n      <th>2023-06-02</th>\n      <td>11584.5</td>\n    </tr>\n    <tr>\n      <th>2023-06-05</th>\n      <td>11666.34</td>\n    </tr>\n    <tr>\n      <th>2023-06-06</th>\n      <td>11640.77</td>\n    </tr>\n    <tr>\n      <th>2023-06-07</th>\n      <td>11727.12</td>\n    </tr>\n    <tr>\n      <th>2023-06-08</th>\n      <td>11574.78</td>\n    </tr>\n  </tbody>\n</table>\n<p>1081 rows × 1 columns</p>\n</div>"
     },
     "execution_count": 15,
     "metadata": {},
     "output_type": "execute_result"
    }
   ],
   "source": [
    "url = \"https://backend.taiwanindex.com.tw/api/indexes/IR0114/records?start=2018-12-24&end=2023-06-08\"\n",
    "response = requests.get(url)\n",
    "\n",
    "close = response.json()[\"data\"][\"datasets\"][1][\"data\"]\n",
    "timestamps = response.json()[\"data\"][\"labels\"]\n",
    "\n",
    "mid_small_300 = {\"Date\": timestamps, \"mid_small_300\": close}\n",
    "\n",
    "df_mid_small_300 = pd.DataFrame(mid_small_300)\n",
    "df_mid_small_300.Date = pd.to_datetime(df_mid_small_300.Date, format='%Y/%m/%d')\n",
    "df_mid_small_300 = df_mid_small_300.set_index(['Date'])\n",
    "df_mid_small_300"
   ],
   "metadata": {
    "collapsed": false,
    "ExecuteTime": {
     "end_time": "2023-06-08T14:52:10.075877300Z",
     "start_time": "2023-06-08T14:52:08.556219400Z"
    }
   }
  },
  {
   "cell_type": "code",
   "execution_count": null,
   "outputs": [],
   "source": [],
   "metadata": {
    "collapsed": false
   }
  }
 ],
 "metadata": {
  "kernelspec": {
   "display_name": "Python 3",
   "language": "python",
   "name": "python3"
  },
  "language_info": {
   "codemirror_mode": {
    "name": "ipython",
    "version": 2
   },
   "file_extension": ".py",
   "mimetype": "text/x-python",
   "name": "python",
   "nbconvert_exporter": "python",
   "pygments_lexer": "ipython2",
   "version": "2.7.6"
  }
 },
 "nbformat": 4,
 "nbformat_minor": 0
}
