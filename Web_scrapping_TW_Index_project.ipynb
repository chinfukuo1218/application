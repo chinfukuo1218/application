{
 "cells": [
  {
   "cell_type": "markdown",
   "source": [
    "### Packages"
   ],
   "metadata": {
    "collapsed": false
   }
  },
  {
   "cell_type": "code",
   "execution_count": 2,
   "outputs": [],
   "source": [
    "import os\n",
    "import numpy as np\n",
    "import requests\n",
    "import bs4\n",
    "import pandas as pd\n",
    "import time\n",
    "import random\n",
    "import matplotlib.pyplot as plt\n",
    "from functools import reduce\n",
    "plt.style.use('default')"
   ],
   "metadata": {
    "collapsed": false
   }
  },
  {
   "cell_type": "code",
   "execution_count": 3,
   "outputs": [],
   "source": [
    "month_list=['01','02','03','04','05','06','07','08','09','10','11','12']#跑月份字串"
   ],
   "metadata": {
    "collapsed": false
   }
  },
  {
   "cell_type": "markdown",
   "source": [
    "### 加權指數 (報酬指數)"
   ],
   "metadata": {
    "collapsed": false
   }
  },
  {
   "cell_type": "code",
   "execution_count": 10,
   "metadata": {
    "collapsed": true
   },
   "outputs": [
    {
     "name": "stdout",
     "output_type": "stream",
     "text": [
      "https://www.twse.com.tw/indicesReport/MFI94U?response=html&date=20030101\n",
      "https://www.twse.com.tw/indicesReport/MFI94U?response=html&date=20030201\n",
      "https://www.twse.com.tw/indicesReport/MFI94U?response=html&date=20030301\n",
      "https://www.twse.com.tw/indicesReport/MFI94U?response=html&date=20030401\n",
      "https://www.twse.com.tw/indicesReport/MFI94U?response=html&date=20030501\n",
      "https://www.twse.com.tw/indicesReport/MFI94U?response=html&date=20030601\n",
      "https://www.twse.com.tw/indicesReport/MFI94U?response=html&date=20030701\n",
      "https://www.twse.com.tw/indicesReport/MFI94U?response=html&date=20030801\n",
      "https://www.twse.com.tw/indicesReport/MFI94U?response=html&date=20030901\n",
      "https://www.twse.com.tw/indicesReport/MFI94U?response=html&date=20031001\n",
      "https://www.twse.com.tw/indicesReport/MFI94U?response=html&date=20031101\n",
      "https://www.twse.com.tw/indicesReport/MFI94U?response=html&date=20031201\n",
      "https://www.twse.com.tw/indicesReport/MFI94U?response=html&date=20040101\n",
      "https://www.twse.com.tw/indicesReport/MFI94U?response=html&date=20040201\n",
      "https://www.twse.com.tw/indicesReport/MFI94U?response=html&date=20040301\n",
      "https://www.twse.com.tw/indicesReport/MFI94U?response=html&date=20040401\n",
      "https://www.twse.com.tw/indicesReport/MFI94U?response=html&date=20040501\n",
      "https://www.twse.com.tw/indicesReport/MFI94U?response=html&date=20040601\n",
      "https://www.twse.com.tw/indicesReport/MFI94U?response=html&date=20040701\n",
      "https://www.twse.com.tw/indicesReport/MFI94U?response=html&date=20040801\n",
      "https://www.twse.com.tw/indicesReport/MFI94U?response=html&date=20040901\n",
      "https://www.twse.com.tw/indicesReport/MFI94U?response=html&date=20041001\n",
      "https://www.twse.com.tw/indicesReport/MFI94U?response=html&date=20041101\n",
      "https://www.twse.com.tw/indicesReport/MFI94U?response=html&date=20041201\n",
      "https://www.twse.com.tw/indicesReport/MFI94U?response=html&date=20050101\n",
      "https://www.twse.com.tw/indicesReport/MFI94U?response=html&date=20050201\n",
      "https://www.twse.com.tw/indicesReport/MFI94U?response=html&date=20050301\n",
      "https://www.twse.com.tw/indicesReport/MFI94U?response=html&date=20050401\n",
      "https://www.twse.com.tw/indicesReport/MFI94U?response=html&date=20050501\n",
      "https://www.twse.com.tw/indicesReport/MFI94U?response=html&date=20050601\n",
      "https://www.twse.com.tw/indicesReport/MFI94U?response=html&date=20050701\n",
      "https://www.twse.com.tw/indicesReport/MFI94U?response=html&date=20050801\n",
      "https://www.twse.com.tw/indicesReport/MFI94U?response=html&date=20050901\n",
      "https://www.twse.com.tw/indicesReport/MFI94U?response=html&date=20051001\n",
      "https://www.twse.com.tw/indicesReport/MFI94U?response=html&date=20051101\n",
      "https://www.twse.com.tw/indicesReport/MFI94U?response=html&date=20051201\n",
      "https://www.twse.com.tw/indicesReport/MFI94U?response=html&date=20060101\n",
      "https://www.twse.com.tw/indicesReport/MFI94U?response=html&date=20060201\n",
      "https://www.twse.com.tw/indicesReport/MFI94U?response=html&date=20060301\n",
      "https://www.twse.com.tw/indicesReport/MFI94U?response=html&date=20060401\n",
      "https://www.twse.com.tw/indicesReport/MFI94U?response=html&date=20060501\n",
      "https://www.twse.com.tw/indicesReport/MFI94U?response=html&date=20060601\n",
      "https://www.twse.com.tw/indicesReport/MFI94U?response=html&date=20060701\n",
      "https://www.twse.com.tw/indicesReport/MFI94U?response=html&date=20060801\n",
      "https://www.twse.com.tw/indicesReport/MFI94U?response=html&date=20060901\n",
      "https://www.twse.com.tw/indicesReport/MFI94U?response=html&date=20061001\n",
      "https://www.twse.com.tw/indicesReport/MFI94U?response=html&date=20061101\n",
      "https://www.twse.com.tw/indicesReport/MFI94U?response=html&date=20061201\n",
      "https://www.twse.com.tw/indicesReport/MFI94U?response=html&date=20070101\n",
      "https://www.twse.com.tw/indicesReport/MFI94U?response=html&date=20070201\n",
      "https://www.twse.com.tw/indicesReport/MFI94U?response=html&date=20070301\n",
      "https://www.twse.com.tw/indicesReport/MFI94U?response=html&date=20070401\n",
      "https://www.twse.com.tw/indicesReport/MFI94U?response=html&date=20070501\n",
      "https://www.twse.com.tw/indicesReport/MFI94U?response=html&date=20070601\n",
      "https://www.twse.com.tw/indicesReport/MFI94U?response=html&date=20070701\n",
      "https://www.twse.com.tw/indicesReport/MFI94U?response=html&date=20070801\n",
      "https://www.twse.com.tw/indicesReport/MFI94U?response=html&date=20070901\n",
      "https://www.twse.com.tw/indicesReport/MFI94U?response=html&date=20071001\n",
      "https://www.twse.com.tw/indicesReport/MFI94U?response=html&date=20071101\n",
      "https://www.twse.com.tw/indicesReport/MFI94U?response=html&date=20071201\n",
      "https://www.twse.com.tw/indicesReport/MFI94U?response=html&date=20080101\n",
      "https://www.twse.com.tw/indicesReport/MFI94U?response=html&date=20080201\n",
      "https://www.twse.com.tw/indicesReport/MFI94U?response=html&date=20080301\n",
      "https://www.twse.com.tw/indicesReport/MFI94U?response=html&date=20080401\n",
      "https://www.twse.com.tw/indicesReport/MFI94U?response=html&date=20080501\n",
      "https://www.twse.com.tw/indicesReport/MFI94U?response=html&date=20080601\n",
      "https://www.twse.com.tw/indicesReport/MFI94U?response=html&date=20080701\n",
      "https://www.twse.com.tw/indicesReport/MFI94U?response=html&date=20080801\n",
      "https://www.twse.com.tw/indicesReport/MFI94U?response=html&date=20080901\n",
      "https://www.twse.com.tw/indicesReport/MFI94U?response=html&date=20081001\n",
      "https://www.twse.com.tw/indicesReport/MFI94U?response=html&date=20081101\n",
      "https://www.twse.com.tw/indicesReport/MFI94U?response=html&date=20081201\n",
      "https://www.twse.com.tw/indicesReport/MFI94U?response=html&date=20090101\n",
      "https://www.twse.com.tw/indicesReport/MFI94U?response=html&date=20090201\n",
      "https://www.twse.com.tw/indicesReport/MFI94U?response=html&date=20090301\n",
      "https://www.twse.com.tw/indicesReport/MFI94U?response=html&date=20090401\n",
      "https://www.twse.com.tw/indicesReport/MFI94U?response=html&date=20090501\n",
      "https://www.twse.com.tw/indicesReport/MFI94U?response=html&date=20090601\n",
      "https://www.twse.com.tw/indicesReport/MFI94U?response=html&date=20090701\n",
      "https://www.twse.com.tw/indicesReport/MFI94U?response=html&date=20090801\n",
      "https://www.twse.com.tw/indicesReport/MFI94U?response=html&date=20090901\n",
      "https://www.twse.com.tw/indicesReport/MFI94U?response=html&date=20091001\n",
      "https://www.twse.com.tw/indicesReport/MFI94U?response=html&date=20091101\n",
      "https://www.twse.com.tw/indicesReport/MFI94U?response=html&date=20091201\n",
      "https://www.twse.com.tw/indicesReport/MFI94U?response=html&date=20100101\n",
      "https://www.twse.com.tw/indicesReport/MFI94U?response=html&date=20100201\n",
      "https://www.twse.com.tw/indicesReport/MFI94U?response=html&date=20100301\n",
      "https://www.twse.com.tw/indicesReport/MFI94U?response=html&date=20100401\n",
      "https://www.twse.com.tw/indicesReport/MFI94U?response=html&date=20100501\n",
      "https://www.twse.com.tw/indicesReport/MFI94U?response=html&date=20100601\n",
      "https://www.twse.com.tw/indicesReport/MFI94U?response=html&date=20100701\n",
      "https://www.twse.com.tw/indicesReport/MFI94U?response=html&date=20100801\n",
      "https://www.twse.com.tw/indicesReport/MFI94U?response=html&date=20100901\n",
      "https://www.twse.com.tw/indicesReport/MFI94U?response=html&date=20101001\n",
      "https://www.twse.com.tw/indicesReport/MFI94U?response=html&date=20101101\n",
      "https://www.twse.com.tw/indicesReport/MFI94U?response=html&date=20101201\n",
      "https://www.twse.com.tw/indicesReport/MFI94U?response=html&date=20110101\n",
      "https://www.twse.com.tw/indicesReport/MFI94U?response=html&date=20110201\n",
      "https://www.twse.com.tw/indicesReport/MFI94U?response=html&date=20110301\n",
      "https://www.twse.com.tw/indicesReport/MFI94U?response=html&date=20110401\n",
      "https://www.twse.com.tw/indicesReport/MFI94U?response=html&date=20110501\n",
      "https://www.twse.com.tw/indicesReport/MFI94U?response=html&date=20110601\n",
      "https://www.twse.com.tw/indicesReport/MFI94U?response=html&date=20110701\n",
      "https://www.twse.com.tw/indicesReport/MFI94U?response=html&date=20110801\n",
      "https://www.twse.com.tw/indicesReport/MFI94U?response=html&date=20110901\n",
      "https://www.twse.com.tw/indicesReport/MFI94U?response=html&date=20111001\n",
      "https://www.twse.com.tw/indicesReport/MFI94U?response=html&date=20111101\n",
      "https://www.twse.com.tw/indicesReport/MFI94U?response=html&date=20111201\n",
      "https://www.twse.com.tw/indicesReport/MFI94U?response=html&date=20120101\n",
      "https://www.twse.com.tw/indicesReport/MFI94U?response=html&date=20120201\n",
      "https://www.twse.com.tw/indicesReport/MFI94U?response=html&date=20120301\n",
      "https://www.twse.com.tw/indicesReport/MFI94U?response=html&date=20120401\n",
      "https://www.twse.com.tw/indicesReport/MFI94U?response=html&date=20120501\n",
      "https://www.twse.com.tw/indicesReport/MFI94U?response=html&date=20120601\n",
      "https://www.twse.com.tw/indicesReport/MFI94U?response=html&date=20120701\n",
      "https://www.twse.com.tw/indicesReport/MFI94U?response=html&date=20120801\n",
      "https://www.twse.com.tw/indicesReport/MFI94U?response=html&date=20120901\n",
      "https://www.twse.com.tw/indicesReport/MFI94U?response=html&date=20121001\n",
      "https://www.twse.com.tw/indicesReport/MFI94U?response=html&date=20121101\n",
      "https://www.twse.com.tw/indicesReport/MFI94U?response=html&date=20121201\n",
      "https://www.twse.com.tw/indicesReport/MFI94U?response=html&date=20130101\n",
      "https://www.twse.com.tw/indicesReport/MFI94U?response=html&date=20130201\n",
      "https://www.twse.com.tw/indicesReport/MFI94U?response=html&date=20130301\n",
      "https://www.twse.com.tw/indicesReport/MFI94U?response=html&date=20130401\n",
      "https://www.twse.com.tw/indicesReport/MFI94U?response=html&date=20130501\n",
      "https://www.twse.com.tw/indicesReport/MFI94U?response=html&date=20130601\n",
      "https://www.twse.com.tw/indicesReport/MFI94U?response=html&date=20130701\n",
      "https://www.twse.com.tw/indicesReport/MFI94U?response=html&date=20130801\n",
      "https://www.twse.com.tw/indicesReport/MFI94U?response=html&date=20130901\n",
      "https://www.twse.com.tw/indicesReport/MFI94U?response=html&date=20131001\n",
      "https://www.twse.com.tw/indicesReport/MFI94U?response=html&date=20131101\n",
      "https://www.twse.com.tw/indicesReport/MFI94U?response=html&date=20131201\n",
      "https://www.twse.com.tw/indicesReport/MFI94U?response=html&date=20140101\n",
      "https://www.twse.com.tw/indicesReport/MFI94U?response=html&date=20140201\n",
      "https://www.twse.com.tw/indicesReport/MFI94U?response=html&date=20140301\n",
      "https://www.twse.com.tw/indicesReport/MFI94U?response=html&date=20140401\n",
      "https://www.twse.com.tw/indicesReport/MFI94U?response=html&date=20140501\n",
      "https://www.twse.com.tw/indicesReport/MFI94U?response=html&date=20140601\n",
      "https://www.twse.com.tw/indicesReport/MFI94U?response=html&date=20140701\n",
      "https://www.twse.com.tw/indicesReport/MFI94U?response=html&date=20140801\n",
      "https://www.twse.com.tw/indicesReport/MFI94U?response=html&date=20140901\n",
      "https://www.twse.com.tw/indicesReport/MFI94U?response=html&date=20141001\n",
      "https://www.twse.com.tw/indicesReport/MFI94U?response=html&date=20141101\n",
      "https://www.twse.com.tw/indicesReport/MFI94U?response=html&date=20141201\n",
      "https://www.twse.com.tw/indicesReport/MFI94U?response=html&date=20150101\n",
      "https://www.twse.com.tw/indicesReport/MFI94U?response=html&date=20150201\n",
      "https://www.twse.com.tw/indicesReport/MFI94U?response=html&date=20150301\n",
      "https://www.twse.com.tw/indicesReport/MFI94U?response=html&date=20150401\n",
      "https://www.twse.com.tw/indicesReport/MFI94U?response=html&date=20150501\n",
      "https://www.twse.com.tw/indicesReport/MFI94U?response=html&date=20150601\n",
      "https://www.twse.com.tw/indicesReport/MFI94U?response=html&date=20150701\n",
      "https://www.twse.com.tw/indicesReport/MFI94U?response=html&date=20150801\n",
      "https://www.twse.com.tw/indicesReport/MFI94U?response=html&date=20150901\n",
      "https://www.twse.com.tw/indicesReport/MFI94U?response=html&date=20151001\n",
      "https://www.twse.com.tw/indicesReport/MFI94U?response=html&date=20151101\n",
      "https://www.twse.com.tw/indicesReport/MFI94U?response=html&date=20151201\n",
      "https://www.twse.com.tw/indicesReport/MFI94U?response=html&date=20160101\n",
      "https://www.twse.com.tw/indicesReport/MFI94U?response=html&date=20160201\n",
      "https://www.twse.com.tw/indicesReport/MFI94U?response=html&date=20160301\n",
      "https://www.twse.com.tw/indicesReport/MFI94U?response=html&date=20160401\n",
      "https://www.twse.com.tw/indicesReport/MFI94U?response=html&date=20160501\n",
      "https://www.twse.com.tw/indicesReport/MFI94U?response=html&date=20160601\n",
      "https://www.twse.com.tw/indicesReport/MFI94U?response=html&date=20160701\n",
      "https://www.twse.com.tw/indicesReport/MFI94U?response=html&date=20160801\n",
      "https://www.twse.com.tw/indicesReport/MFI94U?response=html&date=20160901\n",
      "https://www.twse.com.tw/indicesReport/MFI94U?response=html&date=20161001\n",
      "https://www.twse.com.tw/indicesReport/MFI94U?response=html&date=20161101\n",
      "https://www.twse.com.tw/indicesReport/MFI94U?response=html&date=20161201\n",
      "https://www.twse.com.tw/indicesReport/MFI94U?response=html&date=20170101\n",
      "https://www.twse.com.tw/indicesReport/MFI94U?response=html&date=20170201\n",
      "https://www.twse.com.tw/indicesReport/MFI94U?response=html&date=20170301\n",
      "https://www.twse.com.tw/indicesReport/MFI94U?response=html&date=20170401\n",
      "https://www.twse.com.tw/indicesReport/MFI94U?response=html&date=20170501\n",
      "https://www.twse.com.tw/indicesReport/MFI94U?response=html&date=20170601\n",
      "https://www.twse.com.tw/indicesReport/MFI94U?response=html&date=20170701\n",
      "https://www.twse.com.tw/indicesReport/MFI94U?response=html&date=20170801\n",
      "https://www.twse.com.tw/indicesReport/MFI94U?response=html&date=20170901\n",
      "https://www.twse.com.tw/indicesReport/MFI94U?response=html&date=20171001\n",
      "https://www.twse.com.tw/indicesReport/MFI94U?response=html&date=20171101\n",
      "https://www.twse.com.tw/indicesReport/MFI94U?response=html&date=20171201\n",
      "https://www.twse.com.tw/indicesReport/MFI94U?response=html&date=20180101\n",
      "https://www.twse.com.tw/indicesReport/MFI94U?response=html&date=20180201\n",
      "https://www.twse.com.tw/indicesReport/MFI94U?response=html&date=20180301\n",
      "https://www.twse.com.tw/indicesReport/MFI94U?response=html&date=20180401\n",
      "https://www.twse.com.tw/indicesReport/MFI94U?response=html&date=20180501\n",
      "https://www.twse.com.tw/indicesReport/MFI94U?response=html&date=20180601\n",
      "https://www.twse.com.tw/indicesReport/MFI94U?response=html&date=20180701\n",
      "https://www.twse.com.tw/indicesReport/MFI94U?response=html&date=20180801\n",
      "https://www.twse.com.tw/indicesReport/MFI94U?response=html&date=20180901\n",
      "https://www.twse.com.tw/indicesReport/MFI94U?response=html&date=20181001\n",
      "https://www.twse.com.tw/indicesReport/MFI94U?response=html&date=20181101\n",
      "https://www.twse.com.tw/indicesReport/MFI94U?response=html&date=20181201\n",
      "https://www.twse.com.tw/indicesReport/MFI94U?response=html&date=20190101\n",
      "https://www.twse.com.tw/indicesReport/MFI94U?response=html&date=20190201\n",
      "https://www.twse.com.tw/indicesReport/MFI94U?response=html&date=20190301\n",
      "https://www.twse.com.tw/indicesReport/MFI94U?response=html&date=20190401\n",
      "https://www.twse.com.tw/indicesReport/MFI94U?response=html&date=20190501\n",
      "https://www.twse.com.tw/indicesReport/MFI94U?response=html&date=20190601\n",
      "https://www.twse.com.tw/indicesReport/MFI94U?response=html&date=20190701\n",
      "https://www.twse.com.tw/indicesReport/MFI94U?response=html&date=20190801\n",
      "https://www.twse.com.tw/indicesReport/MFI94U?response=html&date=20190901\n",
      "https://www.twse.com.tw/indicesReport/MFI94U?response=html&date=20191001\n",
      "https://www.twse.com.tw/indicesReport/MFI94U?response=html&date=20191101\n",
      "https://www.twse.com.tw/indicesReport/MFI94U?response=html&date=20191201\n",
      "https://www.twse.com.tw/indicesReport/MFI94U?response=html&date=20200101\n",
      "https://www.twse.com.tw/indicesReport/MFI94U?response=html&date=20200201\n",
      "https://www.twse.com.tw/indicesReport/MFI94U?response=html&date=20200301\n",
      "https://www.twse.com.tw/indicesReport/MFI94U?response=html&date=20200401\n",
      "https://www.twse.com.tw/indicesReport/MFI94U?response=html&date=20200501\n",
      "https://www.twse.com.tw/indicesReport/MFI94U?response=html&date=20200601\n",
      "https://www.twse.com.tw/indicesReport/MFI94U?response=html&date=20200701\n",
      "https://www.twse.com.tw/indicesReport/MFI94U?response=html&date=20200801\n",
      "https://www.twse.com.tw/indicesReport/MFI94U?response=html&date=20200901\n",
      "https://www.twse.com.tw/indicesReport/MFI94U?response=html&date=20201001\n",
      "https://www.twse.com.tw/indicesReport/MFI94U?response=html&date=20201101\n",
      "https://www.twse.com.tw/indicesReport/MFI94U?response=html&date=20201201\n",
      "https://www.twse.com.tw/indicesReport/MFI94U?response=html&date=20210101\n",
      "https://www.twse.com.tw/indicesReport/MFI94U?response=html&date=20210201\n",
      "https://www.twse.com.tw/indicesReport/MFI94U?response=html&date=20210301\n",
      "https://www.twse.com.tw/indicesReport/MFI94U?response=html&date=20210401\n",
      "https://www.twse.com.tw/indicesReport/MFI94U?response=html&date=20210501\n",
      "https://www.twse.com.tw/indicesReport/MFI94U?response=html&date=20210601\n",
      "https://www.twse.com.tw/indicesReport/MFI94U?response=html&date=20210701\n",
      "https://www.twse.com.tw/indicesReport/MFI94U?response=html&date=20210801\n",
      "https://www.twse.com.tw/indicesReport/MFI94U?response=html&date=20210901\n",
      "https://www.twse.com.tw/indicesReport/MFI94U?response=html&date=20211001\n",
      "https://www.twse.com.tw/indicesReport/MFI94U?response=html&date=20211101\n",
      "https://www.twse.com.tw/indicesReport/MFI94U?response=html&date=20211201\n",
      "https://www.twse.com.tw/indicesReport/MFI94U?response=html&date=20220101\n",
      "https://www.twse.com.tw/indicesReport/MFI94U?response=html&date=20220201\n",
      "https://www.twse.com.tw/indicesReport/MFI94U?response=html&date=20220301\n",
      "https://www.twse.com.tw/indicesReport/MFI94U?response=html&date=20220401\n",
      "https://www.twse.com.tw/indicesReport/MFI94U?response=html&date=20220501\n",
      "https://www.twse.com.tw/indicesReport/MFI94U?response=html&date=20220601\n",
      "https://www.twse.com.tw/indicesReport/MFI94U?response=html&date=20220701\n",
      "https://www.twse.com.tw/indicesReport/MFI94U?response=html&date=20220801\n",
      "https://www.twse.com.tw/indicesReport/MFI94U?response=html&date=20220901\n",
      "https://www.twse.com.tw/indicesReport/MFI94U?response=html&date=20221001\n",
      "https://www.twse.com.tw/indicesReport/MFI94U?response=html&date=20221101\n",
      "https://www.twse.com.tw/indicesReport/MFI94U?response=html&date=20221201\n",
      "https://www.twse.com.tw/indicesReport/MFI94U?response=html&date=20230101\n",
      "https://www.twse.com.tw/indicesReport/MFI94U?response=html&date=20230201\n",
      "https://www.twse.com.tw/indicesReport/MFI94U?response=html&date=20230301\n",
      "https://www.twse.com.tw/indicesReport/MFI94U?response=html&date=20230401\n",
      "https://www.twse.com.tw/indicesReport/MFI94U?response=html&date=20230501\n",
      "https://www.twse.com.tw/indicesReport/MFI94U?response=html&date=20230601\n",
      "https://www.twse.com.tw/indicesReport/MFI94U?response=html&date=20230701\n",
      "finish dfs\n"
     ]
    },
    {
     "name": "stderr",
     "output_type": "stream",
     "text": [
      "C:\\Users\\s8600\\AppData\\Local\\Temp/ipykernel_9956/3635337602.py:31: SettingWithCopyWarning: \n",
      "A value is trying to be set on a copy of a slice from a DataFrame\n",
      "\n",
      "See the caveats in the documentation: https://pandas.pydata.org/pandas-docs/stable/user_guide/indexing.html#returning-a-view-versus-a-copy\n",
      "  dfs.date[i]=str(int(sp[0])+1911) + '/' + sp[1]  + '/' + sp[2]\n"
     ]
    },
    {
     "data": {
      "text/plain": "            date  total_return_close\n0     2003/01/02             4524.92\n1     2003/01/03             4626.36\n2     2003/01/06             4690.26\n3     2003/01/07             4701.48\n4     2003/01/08             4837.35\n...          ...                 ...\n5035  2023/06/02            34853.76\n5036  2023/06/05            34875.44\n5037  2023/06/06            34979.10\n5038  2023/06/07            35320.33\n5039  2023/06/08            34928.14\n\n[5040 rows x 2 columns]",
      "text/html": "<div>\n<style scoped>\n    .dataframe tbody tr th:only-of-type {\n        vertical-align: middle;\n    }\n\n    .dataframe tbody tr th {\n        vertical-align: top;\n    }\n\n    .dataframe thead th {\n        text-align: right;\n    }\n</style>\n<table border=\"1\" class=\"dataframe\">\n  <thead>\n    <tr style=\"text-align: right;\">\n      <th></th>\n      <th>date</th>\n      <th>total_return_close</th>\n    </tr>\n  </thead>\n  <tbody>\n    <tr>\n      <th>0</th>\n      <td>2003/01/02</td>\n      <td>4524.92</td>\n    </tr>\n    <tr>\n      <th>1</th>\n      <td>2003/01/03</td>\n      <td>4626.36</td>\n    </tr>\n    <tr>\n      <th>2</th>\n      <td>2003/01/06</td>\n      <td>4690.26</td>\n    </tr>\n    <tr>\n      <th>3</th>\n      <td>2003/01/07</td>\n      <td>4701.48</td>\n    </tr>\n    <tr>\n      <th>4</th>\n      <td>2003/01/08</td>\n      <td>4837.35</td>\n    </tr>\n    <tr>\n      <th>...</th>\n      <td>...</td>\n      <td>...</td>\n    </tr>\n    <tr>\n      <th>5035</th>\n      <td>2023/06/02</td>\n      <td>34853.76</td>\n    </tr>\n    <tr>\n      <th>5036</th>\n      <td>2023/06/05</td>\n      <td>34875.44</td>\n    </tr>\n    <tr>\n      <th>5037</th>\n      <td>2023/06/06</td>\n      <td>34979.10</td>\n    </tr>\n    <tr>\n      <th>5038</th>\n      <td>2023/06/07</td>\n      <td>35320.33</td>\n    </tr>\n    <tr>\n      <th>5039</th>\n      <td>2023/06/08</td>\n      <td>34928.14</td>\n    </tr>\n  </tbody>\n</table>\n<p>5040 rows × 2 columns</p>\n</div>"
     },
     "execution_count": 10,
     "metadata": {},
     "output_type": "execute_result"
    }
   ],
   "source": [
    "dfs = pd.DataFrame(columns=['date','total_return_close'])#建立DataFrame\n",
    "for i in range(2003,2024,1):\n",
    "    for j in range(0,12,1):\n",
    "\n",
    "        #請求網站\n",
    "        url=\"https://www.twse.com.tw/indicesReport/MFI94U?response=html&date=\"+str(i)+month_list[j]+\"01\"\n",
    "        print(url)\n",
    "        if i == 2023 and month_list[j] == '07':\n",
    "            print('finish dfs')\n",
    "            break\n",
    "        res = requests.get(url)\n",
    "        time.sleep(random.uniform(0.1,2.1))\n",
    "        #解析網站\n",
    "        soup = bs4.BeautifulSoup(res.text,\"html.parser\")\n",
    "\n",
    "        #取得table並整理\n",
    "        data = soup.select('table')[0]\n",
    "        df = pd.read_html(data.prettify())[0]\n",
    "        df.columns=df.columns.get_level_values(1)\n",
    "        df.columns=[u'date',u'total_return_close']\n",
    "\n",
    "        #合併DataFrame到dfs\n",
    "        dfs = pd.concat([dfs,df],ignore_index=True)\n",
    "\n",
    "        #使用隨機間隔時間抓取網站，避免被鎖\n",
    "        time.sleep(random.uniform(1.1,5.5))\n",
    "\n",
    "#將調整民國年調整成西元年\n",
    "for i in range(len(dfs.date)):\n",
    "    sp = dfs.date[i].split('/')\n",
    "    dfs.date[i]=str(int(sp[0])+1911) + '/' + sp[1]  + '/' + sp[2]\n",
    "\n",
    "dfs"
   ]
  },
  {
   "cell_type": "code",
   "execution_count": 48,
   "outputs": [],
   "source": [
    "dfs = dfs[['date', 'total_return_close']]\n",
    "dfs.rename(columns = {'total_return_close':'TAIEX'}, inplace=True)\n",
    "dfs.date = pd.to_datetime(dfs.date, format='%Y/%m/%d')\n",
    "dfs = dfs.set_index(['date'])"
   ],
   "metadata": {
    "collapsed": false
   }
  },
  {
   "cell_type": "code",
   "execution_count": 49,
   "outputs": [
    {
     "data": {
      "text/plain": "               TAIEX\ndate                \n2003-01-02   4524.92\n2003-01-03   4626.36\n2003-01-06   4690.26\n2003-01-07   4701.48\n2003-01-08   4837.35\n...              ...\n2023-06-02  34853.76\n2023-06-05  34875.44\n2023-06-06  34979.10\n2023-06-07  35320.33\n2023-06-08  34928.14\n\n[5040 rows x 1 columns]",
      "text/html": "<div>\n<style scoped>\n    .dataframe tbody tr th:only-of-type {\n        vertical-align: middle;\n    }\n\n    .dataframe tbody tr th {\n        vertical-align: top;\n    }\n\n    .dataframe thead th {\n        text-align: right;\n    }\n</style>\n<table border=\"1\" class=\"dataframe\">\n  <thead>\n    <tr style=\"text-align: right;\">\n      <th></th>\n      <th>TAIEX</th>\n    </tr>\n    <tr>\n      <th>date</th>\n      <th></th>\n    </tr>\n  </thead>\n  <tbody>\n    <tr>\n      <th>2003-01-02</th>\n      <td>4524.92</td>\n    </tr>\n    <tr>\n      <th>2003-01-03</th>\n      <td>4626.36</td>\n    </tr>\n    <tr>\n      <th>2003-01-06</th>\n      <td>4690.26</td>\n    </tr>\n    <tr>\n      <th>2003-01-07</th>\n      <td>4701.48</td>\n    </tr>\n    <tr>\n      <th>2003-01-08</th>\n      <td>4837.35</td>\n    </tr>\n    <tr>\n      <th>...</th>\n      <td>...</td>\n    </tr>\n    <tr>\n      <th>2023-06-02</th>\n      <td>34853.76</td>\n    </tr>\n    <tr>\n      <th>2023-06-05</th>\n      <td>34875.44</td>\n    </tr>\n    <tr>\n      <th>2023-06-06</th>\n      <td>34979.10</td>\n    </tr>\n    <tr>\n      <th>2023-06-07</th>\n      <td>35320.33</td>\n    </tr>\n    <tr>\n      <th>2023-06-08</th>\n      <td>34928.14</td>\n    </tr>\n  </tbody>\n</table>\n<p>5040 rows × 1 columns</p>\n</div>"
     },
     "execution_count": 49,
     "metadata": {},
     "output_type": "execute_result"
    }
   ],
   "source": [
    "dfs"
   ],
   "metadata": {
    "collapsed": false
   }
  },
  {
   "cell_type": "markdown",
   "source": [
    "### 台灣50"
   ],
   "metadata": {
    "collapsed": false
   }
  },
  {
   "cell_type": "code",
   "execution_count": 9,
   "outputs": [
    {
     "name": "stdout",
     "output_type": "stream",
     "text": [
      "https://www.twse.com.tw/indicesReport/TAI50I?response=html&date=20030101\n",
      "https://www.twse.com.tw/indicesReport/TAI50I?response=html&date=20030201\n",
      "https://www.twse.com.tw/indicesReport/TAI50I?response=html&date=20030301\n",
      "https://www.twse.com.tw/indicesReport/TAI50I?response=html&date=20030401\n",
      "https://www.twse.com.tw/indicesReport/TAI50I?response=html&date=20030501\n",
      "https://www.twse.com.tw/indicesReport/TAI50I?response=html&date=20030601\n",
      "https://www.twse.com.tw/indicesReport/TAI50I?response=html&date=20030701\n",
      "https://www.twse.com.tw/indicesReport/TAI50I?response=html&date=20030801\n",
      "https://www.twse.com.tw/indicesReport/TAI50I?response=html&date=20030901\n",
      "https://www.twse.com.tw/indicesReport/TAI50I?response=html&date=20031001\n",
      "https://www.twse.com.tw/indicesReport/TAI50I?response=html&date=20031101\n",
      "https://www.twse.com.tw/indicesReport/TAI50I?response=html&date=20031201\n",
      "https://www.twse.com.tw/indicesReport/TAI50I?response=html&date=20040101\n",
      "https://www.twse.com.tw/indicesReport/TAI50I?response=html&date=20040201\n",
      "https://www.twse.com.tw/indicesReport/TAI50I?response=html&date=20040301\n",
      "https://www.twse.com.tw/indicesReport/TAI50I?response=html&date=20040401\n",
      "https://www.twse.com.tw/indicesReport/TAI50I?response=html&date=20040501\n",
      "https://www.twse.com.tw/indicesReport/TAI50I?response=html&date=20040601\n",
      "https://www.twse.com.tw/indicesReport/TAI50I?response=html&date=20040701\n",
      "https://www.twse.com.tw/indicesReport/TAI50I?response=html&date=20040801\n",
      "https://www.twse.com.tw/indicesReport/TAI50I?response=html&date=20040901\n",
      "https://www.twse.com.tw/indicesReport/TAI50I?response=html&date=20041001\n",
      "https://www.twse.com.tw/indicesReport/TAI50I?response=html&date=20041101\n",
      "https://www.twse.com.tw/indicesReport/TAI50I?response=html&date=20041201\n",
      "https://www.twse.com.tw/indicesReport/TAI50I?response=html&date=20050101\n",
      "https://www.twse.com.tw/indicesReport/TAI50I?response=html&date=20050201\n",
      "https://www.twse.com.tw/indicesReport/TAI50I?response=html&date=20050301\n",
      "https://www.twse.com.tw/indicesReport/TAI50I?response=html&date=20050401\n",
      "https://www.twse.com.tw/indicesReport/TAI50I?response=html&date=20050501\n",
      "https://www.twse.com.tw/indicesReport/TAI50I?response=html&date=20050601\n",
      "https://www.twse.com.tw/indicesReport/TAI50I?response=html&date=20050701\n",
      "https://www.twse.com.tw/indicesReport/TAI50I?response=html&date=20050801\n",
      "https://www.twse.com.tw/indicesReport/TAI50I?response=html&date=20050901\n",
      "https://www.twse.com.tw/indicesReport/TAI50I?response=html&date=20051001\n",
      "https://www.twse.com.tw/indicesReport/TAI50I?response=html&date=20051101\n",
      "https://www.twse.com.tw/indicesReport/TAI50I?response=html&date=20051201\n",
      "https://www.twse.com.tw/indicesReport/TAI50I?response=html&date=20060101\n",
      "https://www.twse.com.tw/indicesReport/TAI50I?response=html&date=20060201\n",
      "https://www.twse.com.tw/indicesReport/TAI50I?response=html&date=20060301\n",
      "https://www.twse.com.tw/indicesReport/TAI50I?response=html&date=20060401\n",
      "https://www.twse.com.tw/indicesReport/TAI50I?response=html&date=20060501\n",
      "https://www.twse.com.tw/indicesReport/TAI50I?response=html&date=20060601\n",
      "https://www.twse.com.tw/indicesReport/TAI50I?response=html&date=20060701\n",
      "https://www.twse.com.tw/indicesReport/TAI50I?response=html&date=20060801\n",
      "https://www.twse.com.tw/indicesReport/TAI50I?response=html&date=20060901\n",
      "https://www.twse.com.tw/indicesReport/TAI50I?response=html&date=20061001\n",
      "https://www.twse.com.tw/indicesReport/TAI50I?response=html&date=20061101\n",
      "https://www.twse.com.tw/indicesReport/TAI50I?response=html&date=20061201\n",
      "https://www.twse.com.tw/indicesReport/TAI50I?response=html&date=20070101\n",
      "https://www.twse.com.tw/indicesReport/TAI50I?response=html&date=20070201\n",
      "https://www.twse.com.tw/indicesReport/TAI50I?response=html&date=20070301\n",
      "https://www.twse.com.tw/indicesReport/TAI50I?response=html&date=20070401\n",
      "https://www.twse.com.tw/indicesReport/TAI50I?response=html&date=20070501\n",
      "https://www.twse.com.tw/indicesReport/TAI50I?response=html&date=20070601\n",
      "https://www.twse.com.tw/indicesReport/TAI50I?response=html&date=20070701\n",
      "https://www.twse.com.tw/indicesReport/TAI50I?response=html&date=20070801\n",
      "https://www.twse.com.tw/indicesReport/TAI50I?response=html&date=20070901\n",
      "https://www.twse.com.tw/indicesReport/TAI50I?response=html&date=20071001\n",
      "https://www.twse.com.tw/indicesReport/TAI50I?response=html&date=20071101\n",
      "https://www.twse.com.tw/indicesReport/TAI50I?response=html&date=20071201\n",
      "https://www.twse.com.tw/indicesReport/TAI50I?response=html&date=20080101\n",
      "https://www.twse.com.tw/indicesReport/TAI50I?response=html&date=20080201\n",
      "https://www.twse.com.tw/indicesReport/TAI50I?response=html&date=20080301\n",
      "https://www.twse.com.tw/indicesReport/TAI50I?response=html&date=20080401\n",
      "https://www.twse.com.tw/indicesReport/TAI50I?response=html&date=20080501\n",
      "https://www.twse.com.tw/indicesReport/TAI50I?response=html&date=20080601\n",
      "https://www.twse.com.tw/indicesReport/TAI50I?response=html&date=20080701\n",
      "https://www.twse.com.tw/indicesReport/TAI50I?response=html&date=20080801\n",
      "https://www.twse.com.tw/indicesReport/TAI50I?response=html&date=20080901\n",
      "https://www.twse.com.tw/indicesReport/TAI50I?response=html&date=20081001\n",
      "https://www.twse.com.tw/indicesReport/TAI50I?response=html&date=20081101\n",
      "https://www.twse.com.tw/indicesReport/TAI50I?response=html&date=20081201\n",
      "https://www.twse.com.tw/indicesReport/TAI50I?response=html&date=20090101\n",
      "https://www.twse.com.tw/indicesReport/TAI50I?response=html&date=20090201\n",
      "https://www.twse.com.tw/indicesReport/TAI50I?response=html&date=20090301\n",
      "https://www.twse.com.tw/indicesReport/TAI50I?response=html&date=20090401\n",
      "https://www.twse.com.tw/indicesReport/TAI50I?response=html&date=20090501\n",
      "https://www.twse.com.tw/indicesReport/TAI50I?response=html&date=20090601\n",
      "https://www.twse.com.tw/indicesReport/TAI50I?response=html&date=20090701\n",
      "https://www.twse.com.tw/indicesReport/TAI50I?response=html&date=20090801\n",
      "https://www.twse.com.tw/indicesReport/TAI50I?response=html&date=20090901\n",
      "https://www.twse.com.tw/indicesReport/TAI50I?response=html&date=20091001\n",
      "https://www.twse.com.tw/indicesReport/TAI50I?response=html&date=20091101\n",
      "https://www.twse.com.tw/indicesReport/TAI50I?response=html&date=20091201\n",
      "https://www.twse.com.tw/indicesReport/TAI50I?response=html&date=20100101\n",
      "https://www.twse.com.tw/indicesReport/TAI50I?response=html&date=20100201\n",
      "https://www.twse.com.tw/indicesReport/TAI50I?response=html&date=20100301\n",
      "https://www.twse.com.tw/indicesReport/TAI50I?response=html&date=20100401\n",
      "https://www.twse.com.tw/indicesReport/TAI50I?response=html&date=20100501\n",
      "https://www.twse.com.tw/indicesReport/TAI50I?response=html&date=20100601\n",
      "https://www.twse.com.tw/indicesReport/TAI50I?response=html&date=20100701\n",
      "https://www.twse.com.tw/indicesReport/TAI50I?response=html&date=20100801\n",
      "https://www.twse.com.tw/indicesReport/TAI50I?response=html&date=20100901\n",
      "https://www.twse.com.tw/indicesReport/TAI50I?response=html&date=20101001\n",
      "https://www.twse.com.tw/indicesReport/TAI50I?response=html&date=20101101\n",
      "https://www.twse.com.tw/indicesReport/TAI50I?response=html&date=20101201\n",
      "https://www.twse.com.tw/indicesReport/TAI50I?response=html&date=20110101\n",
      "https://www.twse.com.tw/indicesReport/TAI50I?response=html&date=20110201\n",
      "https://www.twse.com.tw/indicesReport/TAI50I?response=html&date=20110301\n",
      "https://www.twse.com.tw/indicesReport/TAI50I?response=html&date=20110401\n",
      "https://www.twse.com.tw/indicesReport/TAI50I?response=html&date=20110501\n",
      "https://www.twse.com.tw/indicesReport/TAI50I?response=html&date=20110601\n",
      "https://www.twse.com.tw/indicesReport/TAI50I?response=html&date=20110701\n",
      "https://www.twse.com.tw/indicesReport/TAI50I?response=html&date=20110801\n",
      "https://www.twse.com.tw/indicesReport/TAI50I?response=html&date=20110901\n",
      "https://www.twse.com.tw/indicesReport/TAI50I?response=html&date=20111001\n",
      "https://www.twse.com.tw/indicesReport/TAI50I?response=html&date=20111101\n",
      "https://www.twse.com.tw/indicesReport/TAI50I?response=html&date=20111201\n",
      "https://www.twse.com.tw/indicesReport/TAI50I?response=html&date=20120101\n",
      "https://www.twse.com.tw/indicesReport/TAI50I?response=html&date=20120201\n",
      "https://www.twse.com.tw/indicesReport/TAI50I?response=html&date=20120301\n",
      "https://www.twse.com.tw/indicesReport/TAI50I?response=html&date=20120401\n",
      "https://www.twse.com.tw/indicesReport/TAI50I?response=html&date=20120501\n",
      "https://www.twse.com.tw/indicesReport/TAI50I?response=html&date=20120601\n",
      "https://www.twse.com.tw/indicesReport/TAI50I?response=html&date=20120701\n",
      "https://www.twse.com.tw/indicesReport/TAI50I?response=html&date=20120801\n",
      "https://www.twse.com.tw/indicesReport/TAI50I?response=html&date=20120901\n",
      "https://www.twse.com.tw/indicesReport/TAI50I?response=html&date=20121001\n",
      "https://www.twse.com.tw/indicesReport/TAI50I?response=html&date=20121101\n",
      "https://www.twse.com.tw/indicesReport/TAI50I?response=html&date=20121201\n",
      "https://www.twse.com.tw/indicesReport/TAI50I?response=html&date=20130101\n",
      "https://www.twse.com.tw/indicesReport/TAI50I?response=html&date=20130201\n",
      "https://www.twse.com.tw/indicesReport/TAI50I?response=html&date=20130301\n",
      "https://www.twse.com.tw/indicesReport/TAI50I?response=html&date=20130401\n",
      "https://www.twse.com.tw/indicesReport/TAI50I?response=html&date=20130501\n",
      "https://www.twse.com.tw/indicesReport/TAI50I?response=html&date=20130601\n",
      "https://www.twse.com.tw/indicesReport/TAI50I?response=html&date=20130701\n",
      "https://www.twse.com.tw/indicesReport/TAI50I?response=html&date=20130801\n",
      "https://www.twse.com.tw/indicesReport/TAI50I?response=html&date=20130901\n",
      "https://www.twse.com.tw/indicesReport/TAI50I?response=html&date=20131001\n",
      "https://www.twse.com.tw/indicesReport/TAI50I?response=html&date=20131101\n",
      "https://www.twse.com.tw/indicesReport/TAI50I?response=html&date=20131201\n",
      "https://www.twse.com.tw/indicesReport/TAI50I?response=html&date=20140101\n",
      "https://www.twse.com.tw/indicesReport/TAI50I?response=html&date=20140201\n",
      "https://www.twse.com.tw/indicesReport/TAI50I?response=html&date=20140301\n",
      "https://www.twse.com.tw/indicesReport/TAI50I?response=html&date=20140401\n",
      "https://www.twse.com.tw/indicesReport/TAI50I?response=html&date=20140501\n",
      "https://www.twse.com.tw/indicesReport/TAI50I?response=html&date=20140601\n",
      "https://www.twse.com.tw/indicesReport/TAI50I?response=html&date=20140701\n",
      "https://www.twse.com.tw/indicesReport/TAI50I?response=html&date=20140801\n",
      "https://www.twse.com.tw/indicesReport/TAI50I?response=html&date=20140901\n",
      "https://www.twse.com.tw/indicesReport/TAI50I?response=html&date=20141001\n",
      "https://www.twse.com.tw/indicesReport/TAI50I?response=html&date=20141101\n",
      "https://www.twse.com.tw/indicesReport/TAI50I?response=html&date=20141201\n",
      "https://www.twse.com.tw/indicesReport/TAI50I?response=html&date=20150101\n",
      "https://www.twse.com.tw/indicesReport/TAI50I?response=html&date=20150201\n",
      "https://www.twse.com.tw/indicesReport/TAI50I?response=html&date=20150301\n",
      "https://www.twse.com.tw/indicesReport/TAI50I?response=html&date=20150401\n",
      "https://www.twse.com.tw/indicesReport/TAI50I?response=html&date=20150501\n",
      "https://www.twse.com.tw/indicesReport/TAI50I?response=html&date=20150601\n",
      "https://www.twse.com.tw/indicesReport/TAI50I?response=html&date=20150701\n",
      "https://www.twse.com.tw/indicesReport/TAI50I?response=html&date=20150801\n",
      "https://www.twse.com.tw/indicesReport/TAI50I?response=html&date=20150901\n",
      "https://www.twse.com.tw/indicesReport/TAI50I?response=html&date=20151001\n",
      "https://www.twse.com.tw/indicesReport/TAI50I?response=html&date=20151101\n",
      "https://www.twse.com.tw/indicesReport/TAI50I?response=html&date=20151201\n",
      "https://www.twse.com.tw/indicesReport/TAI50I?response=html&date=20160101\n",
      "https://www.twse.com.tw/indicesReport/TAI50I?response=html&date=20160201\n",
      "https://www.twse.com.tw/indicesReport/TAI50I?response=html&date=20160301\n",
      "https://www.twse.com.tw/indicesReport/TAI50I?response=html&date=20160401\n",
      "https://www.twse.com.tw/indicesReport/TAI50I?response=html&date=20160501\n",
      "https://www.twse.com.tw/indicesReport/TAI50I?response=html&date=20160601\n",
      "https://www.twse.com.tw/indicesReport/TAI50I?response=html&date=20160701\n",
      "https://www.twse.com.tw/indicesReport/TAI50I?response=html&date=20160801\n",
      "https://www.twse.com.tw/indicesReport/TAI50I?response=html&date=20160901\n",
      "https://www.twse.com.tw/indicesReport/TAI50I?response=html&date=20161001\n",
      "https://www.twse.com.tw/indicesReport/TAI50I?response=html&date=20161101\n",
      "https://www.twse.com.tw/indicesReport/TAI50I?response=html&date=20161201\n",
      "https://www.twse.com.tw/indicesReport/TAI50I?response=html&date=20170101\n",
      "https://www.twse.com.tw/indicesReport/TAI50I?response=html&date=20170201\n",
      "https://www.twse.com.tw/indicesReport/TAI50I?response=html&date=20170301\n",
      "https://www.twse.com.tw/indicesReport/TAI50I?response=html&date=20170401\n",
      "https://www.twse.com.tw/indicesReport/TAI50I?response=html&date=20170501\n",
      "https://www.twse.com.tw/indicesReport/TAI50I?response=html&date=20170601\n",
      "https://www.twse.com.tw/indicesReport/TAI50I?response=html&date=20170701\n",
      "https://www.twse.com.tw/indicesReport/TAI50I?response=html&date=20170801\n",
      "https://www.twse.com.tw/indicesReport/TAI50I?response=html&date=20170901\n",
      "https://www.twse.com.tw/indicesReport/TAI50I?response=html&date=20171001\n",
      "https://www.twse.com.tw/indicesReport/TAI50I?response=html&date=20171101\n",
      "https://www.twse.com.tw/indicesReport/TAI50I?response=html&date=20171201\n",
      "https://www.twse.com.tw/indicesReport/TAI50I?response=html&date=20180101\n",
      "https://www.twse.com.tw/indicesReport/TAI50I?response=html&date=20180201\n",
      "https://www.twse.com.tw/indicesReport/TAI50I?response=html&date=20180301\n",
      "https://www.twse.com.tw/indicesReport/TAI50I?response=html&date=20180401\n",
      "https://www.twse.com.tw/indicesReport/TAI50I?response=html&date=20180501\n",
      "https://www.twse.com.tw/indicesReport/TAI50I?response=html&date=20180601\n",
      "https://www.twse.com.tw/indicesReport/TAI50I?response=html&date=20180701\n",
      "https://www.twse.com.tw/indicesReport/TAI50I?response=html&date=20180801\n",
      "https://www.twse.com.tw/indicesReport/TAI50I?response=html&date=20180901\n",
      "https://www.twse.com.tw/indicesReport/TAI50I?response=html&date=20181001\n",
      "https://www.twse.com.tw/indicesReport/TAI50I?response=html&date=20181101\n",
      "https://www.twse.com.tw/indicesReport/TAI50I?response=html&date=20181201\n",
      "https://www.twse.com.tw/indicesReport/TAI50I?response=html&date=20190101\n",
      "https://www.twse.com.tw/indicesReport/TAI50I?response=html&date=20190201\n",
      "https://www.twse.com.tw/indicesReport/TAI50I?response=html&date=20190301\n",
      "https://www.twse.com.tw/indicesReport/TAI50I?response=html&date=20190401\n",
      "https://www.twse.com.tw/indicesReport/TAI50I?response=html&date=20190501\n",
      "https://www.twse.com.tw/indicesReport/TAI50I?response=html&date=20190601\n",
      "https://www.twse.com.tw/indicesReport/TAI50I?response=html&date=20190701\n",
      "https://www.twse.com.tw/indicesReport/TAI50I?response=html&date=20190801\n",
      "https://www.twse.com.tw/indicesReport/TAI50I?response=html&date=20190901\n",
      "https://www.twse.com.tw/indicesReport/TAI50I?response=html&date=20191001\n",
      "https://www.twse.com.tw/indicesReport/TAI50I?response=html&date=20191101\n",
      "https://www.twse.com.tw/indicesReport/TAI50I?response=html&date=20191201\n",
      "https://www.twse.com.tw/indicesReport/TAI50I?response=html&date=20200101\n",
      "https://www.twse.com.tw/indicesReport/TAI50I?response=html&date=20200201\n",
      "https://www.twse.com.tw/indicesReport/TAI50I?response=html&date=20200301\n",
      "https://www.twse.com.tw/indicesReport/TAI50I?response=html&date=20200401\n",
      "https://www.twse.com.tw/indicesReport/TAI50I?response=html&date=20200501\n",
      "https://www.twse.com.tw/indicesReport/TAI50I?response=html&date=20200601\n",
      "https://www.twse.com.tw/indicesReport/TAI50I?response=html&date=20200701\n",
      "https://www.twse.com.tw/indicesReport/TAI50I?response=html&date=20200801\n",
      "https://www.twse.com.tw/indicesReport/TAI50I?response=html&date=20200901\n",
      "https://www.twse.com.tw/indicesReport/TAI50I?response=html&date=20201001\n",
      "https://www.twse.com.tw/indicesReport/TAI50I?response=html&date=20201101\n",
      "https://www.twse.com.tw/indicesReport/TAI50I?response=html&date=20201201\n",
      "https://www.twse.com.tw/indicesReport/TAI50I?response=html&date=20210101\n",
      "https://www.twse.com.tw/indicesReport/TAI50I?response=html&date=20210201\n",
      "https://www.twse.com.tw/indicesReport/TAI50I?response=html&date=20210301\n",
      "https://www.twse.com.tw/indicesReport/TAI50I?response=html&date=20210401\n",
      "https://www.twse.com.tw/indicesReport/TAI50I?response=html&date=20210501\n",
      "https://www.twse.com.tw/indicesReport/TAI50I?response=html&date=20210601\n",
      "https://www.twse.com.tw/indicesReport/TAI50I?response=html&date=20210701\n",
      "https://www.twse.com.tw/indicesReport/TAI50I?response=html&date=20210801\n",
      "https://www.twse.com.tw/indicesReport/TAI50I?response=html&date=20210901\n",
      "https://www.twse.com.tw/indicesReport/TAI50I?response=html&date=20211001\n",
      "https://www.twse.com.tw/indicesReport/TAI50I?response=html&date=20211101\n",
      "https://www.twse.com.tw/indicesReport/TAI50I?response=html&date=20211201\n",
      "https://www.twse.com.tw/indicesReport/TAI50I?response=html&date=20220101\n",
      "https://www.twse.com.tw/indicesReport/TAI50I?response=html&date=20220201\n",
      "https://www.twse.com.tw/indicesReport/TAI50I?response=html&date=20220301\n",
      "https://www.twse.com.tw/indicesReport/TAI50I?response=html&date=20220401\n",
      "https://www.twse.com.tw/indicesReport/TAI50I?response=html&date=20220501\n",
      "https://www.twse.com.tw/indicesReport/TAI50I?response=html&date=20220601\n",
      "https://www.twse.com.tw/indicesReport/TAI50I?response=html&date=20220701\n",
      "https://www.twse.com.tw/indicesReport/TAI50I?response=html&date=20220801\n",
      "https://www.twse.com.tw/indicesReport/TAI50I?response=html&date=20220901\n",
      "https://www.twse.com.tw/indicesReport/TAI50I?response=html&date=20221001\n",
      "https://www.twse.com.tw/indicesReport/TAI50I?response=html&date=20221101\n",
      "https://www.twse.com.tw/indicesReport/TAI50I?response=html&date=20221201\n",
      "https://www.twse.com.tw/indicesReport/TAI50I?response=html&date=20230101\n",
      "https://www.twse.com.tw/indicesReport/TAI50I?response=html&date=20230201\n",
      "https://www.twse.com.tw/indicesReport/TAI50I?response=html&date=20230301\n",
      "https://www.twse.com.tw/indicesReport/TAI50I?response=html&date=20230401\n",
      "https://www.twse.com.tw/indicesReport/TAI50I?response=html&date=20230501\n",
      "https://www.twse.com.tw/indicesReport/TAI50I?response=html&date=20230601\n",
      "https://www.twse.com.tw/indicesReport/TAI50I?response=html&date=20230701\n",
      "finish dfs\n"
     ]
    },
    {
     "name": "stderr",
     "output_type": "stream",
     "text": [
      "C:\\Users\\s8600\\AppData\\Local\\Temp/ipykernel_9956/1130294661.py:32: SettingWithCopyWarning: \n",
      "A value is trying to be set on a copy of a slice from a DataFrame\n",
      "\n",
      "See the caveats in the documentation: https://pandas.pydata.org/pandas-docs/stable/user_guide/indexing.html#returning-a-view-versus-a-copy\n",
      "  dfs_50.date[i]=str(int(sp[0])+1911) + '/' + sp[1]  + '/' + sp[2]\n"
     ]
    },
    {
     "data": {
      "text/plain": "            date     close  total_return_close\n0     2003/01/02   3317.86             3356.61\n1     2003/01/03   3409.96             3449.78\n2     2003/01/06   3443.89             3484.11\n3     2003/01/07   3464.36             3504.81\n4     2003/01/08   3552.01             3593.49\n...          ...       ...                 ...\n5047  2023/06/02  12636.08            26573.65\n5048  2023/06/05  12590.64            26478.10\n5049  2023/06/06  12655.79            26620.97\n5050  2023/06/07  12804.36            26933.48\n5051  2023/06/08  12657.69            26624.97\n\n[5052 rows x 3 columns]",
      "text/html": "<div>\n<style scoped>\n    .dataframe tbody tr th:only-of-type {\n        vertical-align: middle;\n    }\n\n    .dataframe tbody tr th {\n        vertical-align: top;\n    }\n\n    .dataframe thead th {\n        text-align: right;\n    }\n</style>\n<table border=\"1\" class=\"dataframe\">\n  <thead>\n    <tr style=\"text-align: right;\">\n      <th></th>\n      <th>date</th>\n      <th>close</th>\n      <th>total_return_close</th>\n    </tr>\n  </thead>\n  <tbody>\n    <tr>\n      <th>0</th>\n      <td>2003/01/02</td>\n      <td>3317.86</td>\n      <td>3356.61</td>\n    </tr>\n    <tr>\n      <th>1</th>\n      <td>2003/01/03</td>\n      <td>3409.96</td>\n      <td>3449.78</td>\n    </tr>\n    <tr>\n      <th>2</th>\n      <td>2003/01/06</td>\n      <td>3443.89</td>\n      <td>3484.11</td>\n    </tr>\n    <tr>\n      <th>3</th>\n      <td>2003/01/07</td>\n      <td>3464.36</td>\n      <td>3504.81</td>\n    </tr>\n    <tr>\n      <th>4</th>\n      <td>2003/01/08</td>\n      <td>3552.01</td>\n      <td>3593.49</td>\n    </tr>\n    <tr>\n      <th>...</th>\n      <td>...</td>\n      <td>...</td>\n      <td>...</td>\n    </tr>\n    <tr>\n      <th>5047</th>\n      <td>2023/06/02</td>\n      <td>12636.08</td>\n      <td>26573.65</td>\n    </tr>\n    <tr>\n      <th>5048</th>\n      <td>2023/06/05</td>\n      <td>12590.64</td>\n      <td>26478.10</td>\n    </tr>\n    <tr>\n      <th>5049</th>\n      <td>2023/06/06</td>\n      <td>12655.79</td>\n      <td>26620.97</td>\n    </tr>\n    <tr>\n      <th>5050</th>\n      <td>2023/06/07</td>\n      <td>12804.36</td>\n      <td>26933.48</td>\n    </tr>\n    <tr>\n      <th>5051</th>\n      <td>2023/06/08</td>\n      <td>12657.69</td>\n      <td>26624.97</td>\n    </tr>\n  </tbody>\n</table>\n<p>5052 rows × 3 columns</p>\n</div>"
     },
     "execution_count": 9,
     "metadata": {},
     "output_type": "execute_result"
    }
   ],
   "source": [
    "dfs_50 = pd.DataFrame(columns=['date', 'close', 'total_return_close'])#建立DataFrame\n",
    "for i in range(2003,2024,1):\n",
    "    for j in range(0,12,1):\n",
    "\n",
    "        #請求網站\n",
    "        url=\"https://www.twse.com.tw/indicesReport/TAI50I?response=html&date=\"+str(i)+month_list[j]+\"01\"\n",
    "        print(url)\n",
    "        if i == 2023 and month_list[j] == '07':\n",
    "            print('finish dfs')\n",
    "            break\n",
    "        res = requests.get(url)\n",
    "        time.sleep(random.uniform(0.1,2.1))\n",
    "        #解析網站\n",
    "        soup = bs4.BeautifulSoup(res.text,\"html.parser\")\n",
    "\n",
    "        #取得table並整理\n",
    "        data = soup.select('table')[0]\n",
    "        df = pd.read_html(data.prettify())[0]\n",
    "        df.columns=df.columns.get_level_values(1)\n",
    "        df.columns=[u'date',u'close',u'total_return_close']\n",
    "\n",
    "        #合併DataFrame到dfs\n",
    "        dfs_50 = pd.concat([dfs_50,df],ignore_index=True)\n",
    "\n",
    "        #使用隨機間隔時間抓取網站，避免被鎖\n",
    "        time.sleep(random.uniform(1.1,5.5))\n",
    "\n",
    "\n",
    "#將調整民國年調整成西元年\n",
    "for i in range(len(dfs_50.date)):\n",
    "    sp = dfs_50.date[i].split('/')\n",
    "    dfs_50.date[i]=str(int(sp[0])+1911) + '/' + sp[1]  + '/' + sp[2]\n",
    "\n",
    "dfs_50"
   ],
   "metadata": {
    "collapsed": false
   }
  },
  {
   "cell_type": "code",
   "execution_count": 44,
   "outputs": [
    {
     "name": "stderr",
     "output_type": "stream",
     "text": [
      "C:\\ProgramData\\Anaconda3\\envs\\main.py\\lib\\site-packages\\pandas\\core\\frame.py:5039: SettingWithCopyWarning: \n",
      "A value is trying to be set on a copy of a slice from a DataFrame\n",
      "\n",
      "See the caveats in the documentation: https://pandas.pydata.org/pandas-docs/stable/user_guide/indexing.html#returning-a-view-versus-a-copy\n",
      "  return super().rename(\n",
      "C:\\ProgramData\\Anaconda3\\envs\\main.py\\lib\\site-packages\\pandas\\core\\generic.py:5516: SettingWithCopyWarning: \n",
      "A value is trying to be set on a copy of a slice from a DataFrame.\n",
      "Try using .loc[row_indexer,col_indexer] = value instead\n",
      "\n",
      "See the caveats in the documentation: https://pandas.pydata.org/pandas-docs/stable/user_guide/indexing.html#returning-a-view-versus-a-copy\n",
      "  self[name] = value\n"
     ]
    }
   ],
   "source": [
    "dfs_50 = dfs_50[['date', 'total_return_close']]\n",
    "dfs_50.rename(columns = {'total_return_close':'TW_50'}, inplace=True)\n",
    "dfs_50.date = pd.to_datetime(dfs_50.date, format='%Y/%m/%d')\n",
    "dfs_50 = dfs_50.set_index(['date'])"
   ],
   "metadata": {
    "collapsed": false
   }
  },
  {
   "cell_type": "code",
   "execution_count": 138,
   "outputs": [],
   "source": [
    "# 2003-11-26 數值錯誤，故將成調整為前值\n",
    "dfs_50.loc['2003-11-26'] = 4674.67"
   ],
   "metadata": {
    "collapsed": false
   }
  },
  {
   "cell_type": "code",
   "execution_count": 139,
   "outputs": [
    {
     "data": {
      "text/plain": "               TW_50\ndate                \n2003-01-02   3356.61\n2003-01-03   3449.78\n2003-01-06   3484.11\n2003-01-07   3504.81\n2003-01-08   3593.49\n...              ...\n2023-06-02  26573.65\n2023-06-05  26478.10\n2023-06-06  26620.97\n2023-06-07  26933.48\n2023-06-08  26624.97\n\n[5052 rows x 1 columns]",
      "text/html": "<div>\n<style scoped>\n    .dataframe tbody tr th:only-of-type {\n        vertical-align: middle;\n    }\n\n    .dataframe tbody tr th {\n        vertical-align: top;\n    }\n\n    .dataframe thead th {\n        text-align: right;\n    }\n</style>\n<table border=\"1\" class=\"dataframe\">\n  <thead>\n    <tr style=\"text-align: right;\">\n      <th></th>\n      <th>TW_50</th>\n    </tr>\n    <tr>\n      <th>date</th>\n      <th></th>\n    </tr>\n  </thead>\n  <tbody>\n    <tr>\n      <th>2003-01-02</th>\n      <td>3356.61</td>\n    </tr>\n    <tr>\n      <th>2003-01-03</th>\n      <td>3449.78</td>\n    </tr>\n    <tr>\n      <th>2003-01-06</th>\n      <td>3484.11</td>\n    </tr>\n    <tr>\n      <th>2003-01-07</th>\n      <td>3504.81</td>\n    </tr>\n    <tr>\n      <th>2003-01-08</th>\n      <td>3593.49</td>\n    </tr>\n    <tr>\n      <th>...</th>\n      <td>...</td>\n    </tr>\n    <tr>\n      <th>2023-06-02</th>\n      <td>26573.65</td>\n    </tr>\n    <tr>\n      <th>2023-06-05</th>\n      <td>26478.10</td>\n    </tr>\n    <tr>\n      <th>2023-06-06</th>\n      <td>26620.97</td>\n    </tr>\n    <tr>\n      <th>2023-06-07</th>\n      <td>26933.48</td>\n    </tr>\n    <tr>\n      <th>2023-06-08</th>\n      <td>26624.97</td>\n    </tr>\n  </tbody>\n</table>\n<p>5052 rows × 1 columns</p>\n</div>"
     },
     "execution_count": 139,
     "metadata": {},
     "output_type": "execute_result"
    }
   ],
   "source": [
    "dfs_50"
   ],
   "metadata": {
    "collapsed": false
   }
  },
  {
   "cell_type": "markdown",
   "source": [
    "### 中型100"
   ],
   "metadata": {
    "collapsed": false
   }
  },
  {
   "cell_type": "code",
   "execution_count": 120,
   "outputs": [
    {
     "name": "stdout",
     "output_type": "stream",
     "text": [
      "https://www.twse.com.tw/rwd/zh/FTSE/TAI100I?response=html&date=20041101\n",
      "https://www.twse.com.tw/rwd/zh/FTSE/TAI100I?response=html&date=20041201\n",
      "https://www.twse.com.tw/rwd/zh/FTSE/TAI100I?response=html&date=20050101\n",
      "https://www.twse.com.tw/rwd/zh/FTSE/TAI100I?response=html&date=20050201\n",
      "https://www.twse.com.tw/rwd/zh/FTSE/TAI100I?response=html&date=20050301\n",
      "https://www.twse.com.tw/rwd/zh/FTSE/TAI100I?response=html&date=20050401\n",
      "https://www.twse.com.tw/rwd/zh/FTSE/TAI100I?response=html&date=20050501\n",
      "https://www.twse.com.tw/rwd/zh/FTSE/TAI100I?response=html&date=20050601\n",
      "https://www.twse.com.tw/rwd/zh/FTSE/TAI100I?response=html&date=20050701\n",
      "https://www.twse.com.tw/rwd/zh/FTSE/TAI100I?response=html&date=20050801\n",
      "https://www.twse.com.tw/rwd/zh/FTSE/TAI100I?response=html&date=20050901\n",
      "https://www.twse.com.tw/rwd/zh/FTSE/TAI100I?response=html&date=20051001\n",
      "https://www.twse.com.tw/rwd/zh/FTSE/TAI100I?response=html&date=20051101\n",
      "https://www.twse.com.tw/rwd/zh/FTSE/TAI100I?response=html&date=20051201\n",
      "https://www.twse.com.tw/rwd/zh/FTSE/TAI100I?response=html&date=20060101\n",
      "https://www.twse.com.tw/rwd/zh/FTSE/TAI100I?response=html&date=20060201\n",
      "https://www.twse.com.tw/rwd/zh/FTSE/TAI100I?response=html&date=20060301\n",
      "https://www.twse.com.tw/rwd/zh/FTSE/TAI100I?response=html&date=20060401\n",
      "https://www.twse.com.tw/rwd/zh/FTSE/TAI100I?response=html&date=20060501\n",
      "https://www.twse.com.tw/rwd/zh/FTSE/TAI100I?response=html&date=20060601\n",
      "https://www.twse.com.tw/rwd/zh/FTSE/TAI100I?response=html&date=20060701\n",
      "https://www.twse.com.tw/rwd/zh/FTSE/TAI100I?response=html&date=20060801\n",
      "https://www.twse.com.tw/rwd/zh/FTSE/TAI100I?response=html&date=20060901\n",
      "https://www.twse.com.tw/rwd/zh/FTSE/TAI100I?response=html&date=20061001\n",
      "https://www.twse.com.tw/rwd/zh/FTSE/TAI100I?response=html&date=20061101\n",
      "https://www.twse.com.tw/rwd/zh/FTSE/TAI100I?response=html&date=20061201\n",
      "https://www.twse.com.tw/rwd/zh/FTSE/TAI100I?response=html&date=20070101\n",
      "https://www.twse.com.tw/rwd/zh/FTSE/TAI100I?response=html&date=20070201\n",
      "https://www.twse.com.tw/rwd/zh/FTSE/TAI100I?response=html&date=20070301\n",
      "https://www.twse.com.tw/rwd/zh/FTSE/TAI100I?response=html&date=20070401\n",
      "https://www.twse.com.tw/rwd/zh/FTSE/TAI100I?response=html&date=20070501\n",
      "https://www.twse.com.tw/rwd/zh/FTSE/TAI100I?response=html&date=20070601\n",
      "https://www.twse.com.tw/rwd/zh/FTSE/TAI100I?response=html&date=20070701\n",
      "https://www.twse.com.tw/rwd/zh/FTSE/TAI100I?response=html&date=20070801\n",
      "https://www.twse.com.tw/rwd/zh/FTSE/TAI100I?response=html&date=20070901\n",
      "https://www.twse.com.tw/rwd/zh/FTSE/TAI100I?response=html&date=20071001\n",
      "https://www.twse.com.tw/rwd/zh/FTSE/TAI100I?response=html&date=20071101\n",
      "https://www.twse.com.tw/rwd/zh/FTSE/TAI100I?response=html&date=20071201\n",
      "https://www.twse.com.tw/rwd/zh/FTSE/TAI100I?response=html&date=20080101\n",
      "https://www.twse.com.tw/rwd/zh/FTSE/TAI100I?response=html&date=20080201\n",
      "https://www.twse.com.tw/rwd/zh/FTSE/TAI100I?response=html&date=20080301\n",
      "https://www.twse.com.tw/rwd/zh/FTSE/TAI100I?response=html&date=20080401\n",
      "https://www.twse.com.tw/rwd/zh/FTSE/TAI100I?response=html&date=20080501\n",
      "https://www.twse.com.tw/rwd/zh/FTSE/TAI100I?response=html&date=20080601\n",
      "https://www.twse.com.tw/rwd/zh/FTSE/TAI100I?response=html&date=20080701\n",
      "https://www.twse.com.tw/rwd/zh/FTSE/TAI100I?response=html&date=20080801\n",
      "https://www.twse.com.tw/rwd/zh/FTSE/TAI100I?response=html&date=20080901\n",
      "https://www.twse.com.tw/rwd/zh/FTSE/TAI100I?response=html&date=20081001\n",
      "https://www.twse.com.tw/rwd/zh/FTSE/TAI100I?response=html&date=20081101\n",
      "https://www.twse.com.tw/rwd/zh/FTSE/TAI100I?response=html&date=20081201\n",
      "https://www.twse.com.tw/rwd/zh/FTSE/TAI100I?response=html&date=20090101\n",
      "https://www.twse.com.tw/rwd/zh/FTSE/TAI100I?response=html&date=20090201\n",
      "https://www.twse.com.tw/rwd/zh/FTSE/TAI100I?response=html&date=20090301\n",
      "https://www.twse.com.tw/rwd/zh/FTSE/TAI100I?response=html&date=20090401\n",
      "https://www.twse.com.tw/rwd/zh/FTSE/TAI100I?response=html&date=20090501\n",
      "https://www.twse.com.tw/rwd/zh/FTSE/TAI100I?response=html&date=20090601\n",
      "https://www.twse.com.tw/rwd/zh/FTSE/TAI100I?response=html&date=20090701\n",
      "https://www.twse.com.tw/rwd/zh/FTSE/TAI100I?response=html&date=20090801\n",
      "https://www.twse.com.tw/rwd/zh/FTSE/TAI100I?response=html&date=20090901\n",
      "https://www.twse.com.tw/rwd/zh/FTSE/TAI100I?response=html&date=20091001\n",
      "https://www.twse.com.tw/rwd/zh/FTSE/TAI100I?response=html&date=20091101\n",
      "https://www.twse.com.tw/rwd/zh/FTSE/TAI100I?response=html&date=20091201\n",
      "https://www.twse.com.tw/rwd/zh/FTSE/TAI100I?response=html&date=20100101\n",
      "https://www.twse.com.tw/rwd/zh/FTSE/TAI100I?response=html&date=20100201\n",
      "https://www.twse.com.tw/rwd/zh/FTSE/TAI100I?response=html&date=20100301\n",
      "https://www.twse.com.tw/rwd/zh/FTSE/TAI100I?response=html&date=20100401\n",
      "https://www.twse.com.tw/rwd/zh/FTSE/TAI100I?response=html&date=20100501\n",
      "https://www.twse.com.tw/rwd/zh/FTSE/TAI100I?response=html&date=20100601\n",
      "https://www.twse.com.tw/rwd/zh/FTSE/TAI100I?response=html&date=20100701\n",
      "https://www.twse.com.tw/rwd/zh/FTSE/TAI100I?response=html&date=20100801\n",
      "https://www.twse.com.tw/rwd/zh/FTSE/TAI100I?response=html&date=20100901\n",
      "https://www.twse.com.tw/rwd/zh/FTSE/TAI100I?response=html&date=20101001\n",
      "https://www.twse.com.tw/rwd/zh/FTSE/TAI100I?response=html&date=20101101\n",
      "https://www.twse.com.tw/rwd/zh/FTSE/TAI100I?response=html&date=20101201\n",
      "https://www.twse.com.tw/rwd/zh/FTSE/TAI100I?response=html&date=20110101\n",
      "https://www.twse.com.tw/rwd/zh/FTSE/TAI100I?response=html&date=20110201\n",
      "https://www.twse.com.tw/rwd/zh/FTSE/TAI100I?response=html&date=20110301\n",
      "https://www.twse.com.tw/rwd/zh/FTSE/TAI100I?response=html&date=20110401\n",
      "https://www.twse.com.tw/rwd/zh/FTSE/TAI100I?response=html&date=20110501\n",
      "https://www.twse.com.tw/rwd/zh/FTSE/TAI100I?response=html&date=20110601\n",
      "https://www.twse.com.tw/rwd/zh/FTSE/TAI100I?response=html&date=20110701\n",
      "https://www.twse.com.tw/rwd/zh/FTSE/TAI100I?response=html&date=20110801\n",
      "https://www.twse.com.tw/rwd/zh/FTSE/TAI100I?response=html&date=20110901\n",
      "https://www.twse.com.tw/rwd/zh/FTSE/TAI100I?response=html&date=20111001\n",
      "https://www.twse.com.tw/rwd/zh/FTSE/TAI100I?response=html&date=20111101\n",
      "https://www.twse.com.tw/rwd/zh/FTSE/TAI100I?response=html&date=20111201\n",
      "https://www.twse.com.tw/rwd/zh/FTSE/TAI100I?response=html&date=20120101\n",
      "https://www.twse.com.tw/rwd/zh/FTSE/TAI100I?response=html&date=20120201\n",
      "https://www.twse.com.tw/rwd/zh/FTSE/TAI100I?response=html&date=20120301\n",
      "https://www.twse.com.tw/rwd/zh/FTSE/TAI100I?response=html&date=20120401\n",
      "https://www.twse.com.tw/rwd/zh/FTSE/TAI100I?response=html&date=20120501\n",
      "https://www.twse.com.tw/rwd/zh/FTSE/TAI100I?response=html&date=20120601\n",
      "https://www.twse.com.tw/rwd/zh/FTSE/TAI100I?response=html&date=20120701\n",
      "https://www.twse.com.tw/rwd/zh/FTSE/TAI100I?response=html&date=20120801\n",
      "https://www.twse.com.tw/rwd/zh/FTSE/TAI100I?response=html&date=20120901\n",
      "https://www.twse.com.tw/rwd/zh/FTSE/TAI100I?response=html&date=20121001\n",
      "https://www.twse.com.tw/rwd/zh/FTSE/TAI100I?response=html&date=20121101\n",
      "https://www.twse.com.tw/rwd/zh/FTSE/TAI100I?response=html&date=20121201\n",
      "https://www.twse.com.tw/rwd/zh/FTSE/TAI100I?response=html&date=20130101\n",
      "https://www.twse.com.tw/rwd/zh/FTSE/TAI100I?response=html&date=20130201\n",
      "https://www.twse.com.tw/rwd/zh/FTSE/TAI100I?response=html&date=20130301\n",
      "https://www.twse.com.tw/rwd/zh/FTSE/TAI100I?response=html&date=20130401\n",
      "https://www.twse.com.tw/rwd/zh/FTSE/TAI100I?response=html&date=20130501\n",
      "https://www.twse.com.tw/rwd/zh/FTSE/TAI100I?response=html&date=20130601\n",
      "https://www.twse.com.tw/rwd/zh/FTSE/TAI100I?response=html&date=20130701\n",
      "https://www.twse.com.tw/rwd/zh/FTSE/TAI100I?response=html&date=20130801\n",
      "https://www.twse.com.tw/rwd/zh/FTSE/TAI100I?response=html&date=20130901\n",
      "https://www.twse.com.tw/rwd/zh/FTSE/TAI100I?response=html&date=20131001\n",
      "https://www.twse.com.tw/rwd/zh/FTSE/TAI100I?response=html&date=20131101\n",
      "https://www.twse.com.tw/rwd/zh/FTSE/TAI100I?response=html&date=20131201\n",
      "https://www.twse.com.tw/rwd/zh/FTSE/TAI100I?response=html&date=20140101\n",
      "https://www.twse.com.tw/rwd/zh/FTSE/TAI100I?response=html&date=20140201\n",
      "https://www.twse.com.tw/rwd/zh/FTSE/TAI100I?response=html&date=20140301\n",
      "https://www.twse.com.tw/rwd/zh/FTSE/TAI100I?response=html&date=20140401\n",
      "https://www.twse.com.tw/rwd/zh/FTSE/TAI100I?response=html&date=20140501\n",
      "https://www.twse.com.tw/rwd/zh/FTSE/TAI100I?response=html&date=20140601\n",
      "https://www.twse.com.tw/rwd/zh/FTSE/TAI100I?response=html&date=20140701\n",
      "https://www.twse.com.tw/rwd/zh/FTSE/TAI100I?response=html&date=20140801\n",
      "https://www.twse.com.tw/rwd/zh/FTSE/TAI100I?response=html&date=20140901\n",
      "https://www.twse.com.tw/rwd/zh/FTSE/TAI100I?response=html&date=20141001\n",
      "https://www.twse.com.tw/rwd/zh/FTSE/TAI100I?response=html&date=20141101\n",
      "https://www.twse.com.tw/rwd/zh/FTSE/TAI100I?response=html&date=20141201\n",
      "https://www.twse.com.tw/rwd/zh/FTSE/TAI100I?response=html&date=20150101\n",
      "https://www.twse.com.tw/rwd/zh/FTSE/TAI100I?response=html&date=20150201\n",
      "https://www.twse.com.tw/rwd/zh/FTSE/TAI100I?response=html&date=20150301\n",
      "https://www.twse.com.tw/rwd/zh/FTSE/TAI100I?response=html&date=20150401\n",
      "https://www.twse.com.tw/rwd/zh/FTSE/TAI100I?response=html&date=20150501\n",
      "https://www.twse.com.tw/rwd/zh/FTSE/TAI100I?response=html&date=20150601\n",
      "https://www.twse.com.tw/rwd/zh/FTSE/TAI100I?response=html&date=20150701\n",
      "https://www.twse.com.tw/rwd/zh/FTSE/TAI100I?response=html&date=20150801\n",
      "https://www.twse.com.tw/rwd/zh/FTSE/TAI100I?response=html&date=20150901\n",
      "https://www.twse.com.tw/rwd/zh/FTSE/TAI100I?response=html&date=20151001\n",
      "https://www.twse.com.tw/rwd/zh/FTSE/TAI100I?response=html&date=20151101\n",
      "https://www.twse.com.tw/rwd/zh/FTSE/TAI100I?response=html&date=20151201\n",
      "https://www.twse.com.tw/rwd/zh/FTSE/TAI100I?response=html&date=20160101\n",
      "https://www.twse.com.tw/rwd/zh/FTSE/TAI100I?response=html&date=20160201\n",
      "https://www.twse.com.tw/rwd/zh/FTSE/TAI100I?response=html&date=20160301\n",
      "https://www.twse.com.tw/rwd/zh/FTSE/TAI100I?response=html&date=20160401\n",
      "https://www.twse.com.tw/rwd/zh/FTSE/TAI100I?response=html&date=20160501\n",
      "https://www.twse.com.tw/rwd/zh/FTSE/TAI100I?response=html&date=20160601\n",
      "https://www.twse.com.tw/rwd/zh/FTSE/TAI100I?response=html&date=20160701\n",
      "https://www.twse.com.tw/rwd/zh/FTSE/TAI100I?response=html&date=20160801\n",
      "https://www.twse.com.tw/rwd/zh/FTSE/TAI100I?response=html&date=20160901\n",
      "https://www.twse.com.tw/rwd/zh/FTSE/TAI100I?response=html&date=20161001\n",
      "https://www.twse.com.tw/rwd/zh/FTSE/TAI100I?response=html&date=20161101\n",
      "https://www.twse.com.tw/rwd/zh/FTSE/TAI100I?response=html&date=20161201\n",
      "https://www.twse.com.tw/rwd/zh/FTSE/TAI100I?response=html&date=20170101\n",
      "https://www.twse.com.tw/rwd/zh/FTSE/TAI100I?response=html&date=20170201\n",
      "https://www.twse.com.tw/rwd/zh/FTSE/TAI100I?response=html&date=20170301\n",
      "https://www.twse.com.tw/rwd/zh/FTSE/TAI100I?response=html&date=20170401\n",
      "https://www.twse.com.tw/rwd/zh/FTSE/TAI100I?response=html&date=20170501\n",
      "https://www.twse.com.tw/rwd/zh/FTSE/TAI100I?response=html&date=20170601\n",
      "https://www.twse.com.tw/rwd/zh/FTSE/TAI100I?response=html&date=20170701\n",
      "https://www.twse.com.tw/rwd/zh/FTSE/TAI100I?response=html&date=20170801\n",
      "https://www.twse.com.tw/rwd/zh/FTSE/TAI100I?response=html&date=20170901\n",
      "https://www.twse.com.tw/rwd/zh/FTSE/TAI100I?response=html&date=20171001\n",
      "https://www.twse.com.tw/rwd/zh/FTSE/TAI100I?response=html&date=20171101\n",
      "https://www.twse.com.tw/rwd/zh/FTSE/TAI100I?response=html&date=20171201\n",
      "https://www.twse.com.tw/rwd/zh/FTSE/TAI100I?response=html&date=20180101\n",
      "https://www.twse.com.tw/rwd/zh/FTSE/TAI100I?response=html&date=20180201\n",
      "https://www.twse.com.tw/rwd/zh/FTSE/TAI100I?response=html&date=20180301\n",
      "https://www.twse.com.tw/rwd/zh/FTSE/TAI100I?response=html&date=20180401\n",
      "https://www.twse.com.tw/rwd/zh/FTSE/TAI100I?response=html&date=20180501\n",
      "https://www.twse.com.tw/rwd/zh/FTSE/TAI100I?response=html&date=20180601\n",
      "https://www.twse.com.tw/rwd/zh/FTSE/TAI100I?response=html&date=20180701\n",
      "https://www.twse.com.tw/rwd/zh/FTSE/TAI100I?response=html&date=20180801\n",
      "https://www.twse.com.tw/rwd/zh/FTSE/TAI100I?response=html&date=20180901\n",
      "https://www.twse.com.tw/rwd/zh/FTSE/TAI100I?response=html&date=20181001\n",
      "https://www.twse.com.tw/rwd/zh/FTSE/TAI100I?response=html&date=20181101\n",
      "https://www.twse.com.tw/rwd/zh/FTSE/TAI100I?response=html&date=20181201\n",
      "https://www.twse.com.tw/rwd/zh/FTSE/TAI100I?response=html&date=20190101\n",
      "https://www.twse.com.tw/rwd/zh/FTSE/TAI100I?response=html&date=20190201\n",
      "https://www.twse.com.tw/rwd/zh/FTSE/TAI100I?response=html&date=20190301\n",
      "https://www.twse.com.tw/rwd/zh/FTSE/TAI100I?response=html&date=20190401\n",
      "https://www.twse.com.tw/rwd/zh/FTSE/TAI100I?response=html&date=20190501\n",
      "https://www.twse.com.tw/rwd/zh/FTSE/TAI100I?response=html&date=20190601\n",
      "https://www.twse.com.tw/rwd/zh/FTSE/TAI100I?response=html&date=20190701\n",
      "https://www.twse.com.tw/rwd/zh/FTSE/TAI100I?response=html&date=20190801\n",
      "https://www.twse.com.tw/rwd/zh/FTSE/TAI100I?response=html&date=20190901\n",
      "https://www.twse.com.tw/rwd/zh/FTSE/TAI100I?response=html&date=20191001\n",
      "https://www.twse.com.tw/rwd/zh/FTSE/TAI100I?response=html&date=20191101\n",
      "https://www.twse.com.tw/rwd/zh/FTSE/TAI100I?response=html&date=20191201\n",
      "https://www.twse.com.tw/rwd/zh/FTSE/TAI100I?response=html&date=20200101\n",
      "https://www.twse.com.tw/rwd/zh/FTSE/TAI100I?response=html&date=20200201\n",
      "https://www.twse.com.tw/rwd/zh/FTSE/TAI100I?response=html&date=20200301\n",
      "https://www.twse.com.tw/rwd/zh/FTSE/TAI100I?response=html&date=20200401\n",
      "https://www.twse.com.tw/rwd/zh/FTSE/TAI100I?response=html&date=20200501\n",
      "https://www.twse.com.tw/rwd/zh/FTSE/TAI100I?response=html&date=20200601\n",
      "https://www.twse.com.tw/rwd/zh/FTSE/TAI100I?response=html&date=20200701\n",
      "https://www.twse.com.tw/rwd/zh/FTSE/TAI100I?response=html&date=20200801\n",
      "https://www.twse.com.tw/rwd/zh/FTSE/TAI100I?response=html&date=20200901\n",
      "https://www.twse.com.tw/rwd/zh/FTSE/TAI100I?response=html&date=20201001\n",
      "https://www.twse.com.tw/rwd/zh/FTSE/TAI100I?response=html&date=20201101\n",
      "https://www.twse.com.tw/rwd/zh/FTSE/TAI100I?response=html&date=20201201\n",
      "https://www.twse.com.tw/rwd/zh/FTSE/TAI100I?response=html&date=20210101\n",
      "https://www.twse.com.tw/rwd/zh/FTSE/TAI100I?response=html&date=20210201\n",
      "https://www.twse.com.tw/rwd/zh/FTSE/TAI100I?response=html&date=20210301\n",
      "https://www.twse.com.tw/rwd/zh/FTSE/TAI100I?response=html&date=20210401\n",
      "https://www.twse.com.tw/rwd/zh/FTSE/TAI100I?response=html&date=20210501\n",
      "https://www.twse.com.tw/rwd/zh/FTSE/TAI100I?response=html&date=20210601\n",
      "https://www.twse.com.tw/rwd/zh/FTSE/TAI100I?response=html&date=20210701\n",
      "https://www.twse.com.tw/rwd/zh/FTSE/TAI100I?response=html&date=20210801\n",
      "https://www.twse.com.tw/rwd/zh/FTSE/TAI100I?response=html&date=20210901\n",
      "https://www.twse.com.tw/rwd/zh/FTSE/TAI100I?response=html&date=20211001\n",
      "https://www.twse.com.tw/rwd/zh/FTSE/TAI100I?response=html&date=20211101\n",
      "https://www.twse.com.tw/rwd/zh/FTSE/TAI100I?response=html&date=20211201\n",
      "https://www.twse.com.tw/rwd/zh/FTSE/TAI100I?response=html&date=20220101\n",
      "https://www.twse.com.tw/rwd/zh/FTSE/TAI100I?response=html&date=20220201\n",
      "https://www.twse.com.tw/rwd/zh/FTSE/TAI100I?response=html&date=20220301\n",
      "https://www.twse.com.tw/rwd/zh/FTSE/TAI100I?response=html&date=20220401\n",
      "https://www.twse.com.tw/rwd/zh/FTSE/TAI100I?response=html&date=20220501\n",
      "https://www.twse.com.tw/rwd/zh/FTSE/TAI100I?response=html&date=20220601\n",
      "https://www.twse.com.tw/rwd/zh/FTSE/TAI100I?response=html&date=20220701\n",
      "https://www.twse.com.tw/rwd/zh/FTSE/TAI100I?response=html&date=20220801\n",
      "https://www.twse.com.tw/rwd/zh/FTSE/TAI100I?response=html&date=20220901\n",
      "https://www.twse.com.tw/rwd/zh/FTSE/TAI100I?response=html&date=20221001\n",
      "https://www.twse.com.tw/rwd/zh/FTSE/TAI100I?response=html&date=20221101\n",
      "https://www.twse.com.tw/rwd/zh/FTSE/TAI100I?response=html&date=20221201\n",
      "https://www.twse.com.tw/rwd/zh/FTSE/TAI100I?response=html&date=20230101\n",
      "https://www.twse.com.tw/rwd/zh/FTSE/TAI100I?response=html&date=20230201\n",
      "https://www.twse.com.tw/rwd/zh/FTSE/TAI100I?response=html&date=20230301\n",
      "https://www.twse.com.tw/rwd/zh/FTSE/TAI100I?response=html&date=20230401\n",
      "https://www.twse.com.tw/rwd/zh/FTSE/TAI100I?response=html&date=20230501\n",
      "https://www.twse.com.tw/rwd/zh/FTSE/TAI100I?response=html&date=20230601\n",
      "https://www.twse.com.tw/rwd/zh/FTSE/TAI100I?response=html&date=20230701\n",
      "finish dfs\n"
     ]
    },
    {
     "name": "stderr",
     "output_type": "stream",
     "text": [
      "C:\\Users\\s8600\\AppData\\Local\\Temp/ipykernel_9956/3131088770.py:33: SettingWithCopyWarning: \n",
      "A value is trying to be set on a copy of a slice from a DataFrame\n",
      "\n",
      "See the caveats in the documentation: https://pandas.pydata.org/pandas-docs/stable/user_guide/indexing.html#returning-a-view-versus-a-copy\n",
      "  dfs_100.date[i]=str(int(sp[0])+1911) + '/' + sp[1]  + '/' + sp[2]\n"
     ]
    },
    {
     "data": {
      "text/plain": "            date     close  total_return_close\n0     2004/11/29   5821.13             6068.04\n1     2004/11/30   5873.03             6122.14\n2     2004/12/01   5840.34             6088.06\n3     2004/12/02   5890.18             6140.02\n4     2004/12/03   5905.19             6155.66\n...          ...       ...                 ...\n4573  2023/06/02  15560.48            30571.09\n4574  2023/06/05  15679.97            30827.80\n4575  2023/06/06  15649.29            30767.48\n4576  2023/06/07  15761.20            31015.00\n4577  2023/06/08  15529.21            30558.49\n\n[4578 rows x 3 columns]",
      "text/html": "<div>\n<style scoped>\n    .dataframe tbody tr th:only-of-type {\n        vertical-align: middle;\n    }\n\n    .dataframe tbody tr th {\n        vertical-align: top;\n    }\n\n    .dataframe thead th {\n        text-align: right;\n    }\n</style>\n<table border=\"1\" class=\"dataframe\">\n  <thead>\n    <tr style=\"text-align: right;\">\n      <th></th>\n      <th>date</th>\n      <th>close</th>\n      <th>total_return_close</th>\n    </tr>\n  </thead>\n  <tbody>\n    <tr>\n      <th>0</th>\n      <td>2004/11/29</td>\n      <td>5821.13</td>\n      <td>6068.04</td>\n    </tr>\n    <tr>\n      <th>1</th>\n      <td>2004/11/30</td>\n      <td>5873.03</td>\n      <td>6122.14</td>\n    </tr>\n    <tr>\n      <th>2</th>\n      <td>2004/12/01</td>\n      <td>5840.34</td>\n      <td>6088.06</td>\n    </tr>\n    <tr>\n      <th>3</th>\n      <td>2004/12/02</td>\n      <td>5890.18</td>\n      <td>6140.02</td>\n    </tr>\n    <tr>\n      <th>4</th>\n      <td>2004/12/03</td>\n      <td>5905.19</td>\n      <td>6155.66</td>\n    </tr>\n    <tr>\n      <th>...</th>\n      <td>...</td>\n      <td>...</td>\n      <td>...</td>\n    </tr>\n    <tr>\n      <th>4573</th>\n      <td>2023/06/02</td>\n      <td>15560.48</td>\n      <td>30571.09</td>\n    </tr>\n    <tr>\n      <th>4574</th>\n      <td>2023/06/05</td>\n      <td>15679.97</td>\n      <td>30827.80</td>\n    </tr>\n    <tr>\n      <th>4575</th>\n      <td>2023/06/06</td>\n      <td>15649.29</td>\n      <td>30767.48</td>\n    </tr>\n    <tr>\n      <th>4576</th>\n      <td>2023/06/07</td>\n      <td>15761.20</td>\n      <td>31015.00</td>\n    </tr>\n    <tr>\n      <th>4577</th>\n      <td>2023/06/08</td>\n      <td>15529.21</td>\n      <td>30558.49</td>\n    </tr>\n  </tbody>\n</table>\n<p>4578 rows × 3 columns</p>\n</div>"
     },
     "execution_count": 120,
     "metadata": {},
     "output_type": "execute_result"
    }
   ],
   "source": [
    "dfs_100 = pd.DataFrame(columns=['date', 'close', 'total_return_close'])#建立DataFrame\n",
    "for i in range(2004,2024,1):\n",
    "    for j in range(0,12,1):\n",
    "        if i == 2004 and j < 10:\n",
    "            continue\n",
    "        #請求網站\n",
    "        url=\"https://www.twse.com.tw/rwd/zh/FTSE/TAI100I?response=html&date=\"+str(i)+month_list[j]+\"01\"\n",
    "        print(url)\n",
    "        if i == 2023 and month_list[j] == '07':\n",
    "            print('finish dfs')\n",
    "            break\n",
    "        res = requests.get(url)\n",
    "        time.sleep(random.uniform(0.1,2.1))\n",
    "        #解析網站\n",
    "        soup = bs4.BeautifulSoup(res.text,\"html.parser\")\n",
    "\n",
    "        #取得table並整理\n",
    "        data = soup.select('table')[0]\n",
    "        df = pd.read_html(data.prettify())[0]\n",
    "        df.columns=df.columns.get_level_values(1)\n",
    "        df.columns=[u'date',u'close',u'total_return_close']\n",
    "\n",
    "        #合併DataFrame到dfs\n",
    "        dfs_100 = pd.concat([dfs_100,df],ignore_index=True)\n",
    "\n",
    "        #使用隨機間隔時間抓取網站，避免被鎖\n",
    "        time.sleep(random.uniform(1.1,5.5))\n",
    "\n",
    "\n",
    "#將調整民國年調整成西元年\n",
    "for i in range(len(dfs_100.date)):\n",
    "    sp = dfs_100.date[i].split('/')\n",
    "    dfs_100.date[i]=str(int(sp[0])+1911) + '/' + sp[1]  + '/' + sp[2]\n",
    "\n",
    "dfs_100"
   ],
   "metadata": {
    "collapsed": false
   }
  },
  {
   "cell_type": "code",
   "execution_count": 121,
   "outputs": [
    {
     "name": "stderr",
     "output_type": "stream",
     "text": [
      "C:\\ProgramData\\Anaconda3\\envs\\main.py\\lib\\site-packages\\pandas\\core\\frame.py:5039: SettingWithCopyWarning: \n",
      "A value is trying to be set on a copy of a slice from a DataFrame\n",
      "\n",
      "See the caveats in the documentation: https://pandas.pydata.org/pandas-docs/stable/user_guide/indexing.html#returning-a-view-versus-a-copy\n",
      "  return super().rename(\n",
      "C:\\ProgramData\\Anaconda3\\envs\\main.py\\lib\\site-packages\\pandas\\core\\generic.py:5516: SettingWithCopyWarning: \n",
      "A value is trying to be set on a copy of a slice from a DataFrame.\n",
      "Try using .loc[row_indexer,col_indexer] = value instead\n",
      "\n",
      "See the caveats in the documentation: https://pandas.pydata.org/pandas-docs/stable/user_guide/indexing.html#returning-a-view-versus-a-copy\n",
      "  self[name] = value\n"
     ]
    }
   ],
   "source": [
    "dfs_100 = dfs_100[['date', 'total_return_close']]\n",
    "dfs_100.rename(columns = {'total_return_close':'mid_100'}, inplace=True)\n",
    "dfs_100.date = pd.to_datetime(dfs_100.date, format='%Y/%m/%d')\n",
    "dfs_100 = dfs_100.set_index(['date'])"
   ],
   "metadata": {
    "collapsed": false
   }
  },
  {
   "cell_type": "code",
   "execution_count": 122,
   "outputs": [
    {
     "data": {
      "text/plain": "             mid_100\ndate                \n2004-11-29   6068.04\n2004-11-30   6122.14\n2004-12-01   6088.06\n2004-12-02   6140.02\n2004-12-03   6155.66\n...              ...\n2023-06-02  30571.09\n2023-06-05  30827.80\n2023-06-06  30767.48\n2023-06-07  31015.00\n2023-06-08  30558.49\n\n[4578 rows x 1 columns]",
      "text/html": "<div>\n<style scoped>\n    .dataframe tbody tr th:only-of-type {\n        vertical-align: middle;\n    }\n\n    .dataframe tbody tr th {\n        vertical-align: top;\n    }\n\n    .dataframe thead th {\n        text-align: right;\n    }\n</style>\n<table border=\"1\" class=\"dataframe\">\n  <thead>\n    <tr style=\"text-align: right;\">\n      <th></th>\n      <th>mid_100</th>\n    </tr>\n    <tr>\n      <th>date</th>\n      <th></th>\n    </tr>\n  </thead>\n  <tbody>\n    <tr>\n      <th>2004-11-29</th>\n      <td>6068.04</td>\n    </tr>\n    <tr>\n      <th>2004-11-30</th>\n      <td>6122.14</td>\n    </tr>\n    <tr>\n      <th>2004-12-01</th>\n      <td>6088.06</td>\n    </tr>\n    <tr>\n      <th>2004-12-02</th>\n      <td>6140.02</td>\n    </tr>\n    <tr>\n      <th>2004-12-03</th>\n      <td>6155.66</td>\n    </tr>\n    <tr>\n      <th>...</th>\n      <td>...</td>\n    </tr>\n    <tr>\n      <th>2023-06-02</th>\n      <td>30571.09</td>\n    </tr>\n    <tr>\n      <th>2023-06-05</th>\n      <td>30827.80</td>\n    </tr>\n    <tr>\n      <th>2023-06-06</th>\n      <td>30767.48</td>\n    </tr>\n    <tr>\n      <th>2023-06-07</th>\n      <td>31015.00</td>\n    </tr>\n    <tr>\n      <th>2023-06-08</th>\n      <td>30558.49</td>\n    </tr>\n  </tbody>\n</table>\n<p>4578 rows × 1 columns</p>\n</div>"
     },
     "execution_count": 122,
     "metadata": {},
     "output_type": "execute_result"
    }
   ],
   "source": [
    "dfs_100"
   ],
   "metadata": {
    "collapsed": false
   }
  },
  {
   "cell_type": "code",
   "execution_count": 119,
   "outputs": [],
   "source": [
    "dfs_100.to_csv('C:\\Python\\Data\\Fubon_project_data.csv', index=True)"
   ],
   "metadata": {
    "collapsed": false
   }
  },
  {
   "cell_type": "markdown",
   "source": [
    "### 中小型300"
   ],
   "metadata": {
    "collapsed": false
   }
  },
  {
   "cell_type": "code",
   "execution_count": 41,
   "outputs": [
    {
     "data": {
      "text/plain": "            date    close total_return_close\n0     2018/12/24  5023.20            5023.20\n1     2018/12/25  4959.28            4959.28\n2     2018/12/26  4926.42            4926.42\n3     2018/12/27  4993.35            4993.35\n4     2018/12/28  5002.89            5002.89\n...          ...      ...                ...\n1076  2023/06/02  9866.78            11584.5\n1077  2023/06/05  9929.83           11666.34\n1078  2023/06/06  9907.41           11640.77\n1079  2023/06/07  9975.65           11727.12\n1080  2023/06/08  9844.23           11574.78\n\n[1081 rows x 3 columns]",
      "text/html": "<div>\n<style scoped>\n    .dataframe tbody tr th:only-of-type {\n        vertical-align: middle;\n    }\n\n    .dataframe tbody tr th {\n        vertical-align: top;\n    }\n\n    .dataframe thead th {\n        text-align: right;\n    }\n</style>\n<table border=\"1\" class=\"dataframe\">\n  <thead>\n    <tr style=\"text-align: right;\">\n      <th></th>\n      <th>date</th>\n      <th>close</th>\n      <th>total_return_close</th>\n    </tr>\n  </thead>\n  <tbody>\n    <tr>\n      <th>0</th>\n      <td>2018/12/24</td>\n      <td>5023.20</td>\n      <td>5023.20</td>\n    </tr>\n    <tr>\n      <th>1</th>\n      <td>2018/12/25</td>\n      <td>4959.28</td>\n      <td>4959.28</td>\n    </tr>\n    <tr>\n      <th>2</th>\n      <td>2018/12/26</td>\n      <td>4926.42</td>\n      <td>4926.42</td>\n    </tr>\n    <tr>\n      <th>3</th>\n      <td>2018/12/27</td>\n      <td>4993.35</td>\n      <td>4993.35</td>\n    </tr>\n    <tr>\n      <th>4</th>\n      <td>2018/12/28</td>\n      <td>5002.89</td>\n      <td>5002.89</td>\n    </tr>\n    <tr>\n      <th>...</th>\n      <td>...</td>\n      <td>...</td>\n      <td>...</td>\n    </tr>\n    <tr>\n      <th>1076</th>\n      <td>2023/06/02</td>\n      <td>9866.78</td>\n      <td>11584.5</td>\n    </tr>\n    <tr>\n      <th>1077</th>\n      <td>2023/06/05</td>\n      <td>9929.83</td>\n      <td>11666.34</td>\n    </tr>\n    <tr>\n      <th>1078</th>\n      <td>2023/06/06</td>\n      <td>9907.41</td>\n      <td>11640.77</td>\n    </tr>\n    <tr>\n      <th>1079</th>\n      <td>2023/06/07</td>\n      <td>9975.65</td>\n      <td>11727.12</td>\n    </tr>\n    <tr>\n      <th>1080</th>\n      <td>2023/06/08</td>\n      <td>9844.23</td>\n      <td>11574.78</td>\n    </tr>\n  </tbody>\n</table>\n<p>1081 rows × 3 columns</p>\n</div>"
     },
     "execution_count": 41,
     "metadata": {},
     "output_type": "execute_result"
    }
   ],
   "source": [
    "url = \"https://backend.taiwanindex.com.tw/api/indexes/IR0114/records?start=2018-12-24&end=2023-06-08\"\n",
    "response = requests.get(url)\n",
    "\n",
    "close1 = response.json()[\"data\"][\"datasets\"][0][\"data\"]\n",
    "close2 = response.json()[\"data\"][\"datasets\"][1][\"data\"]\n",
    "timestamps = response.json()[\"data\"][\"labels\"]\n",
    "\n",
    "mid_small_300 = {\"date\": timestamps, \"close\": close1, \"total_return_close\": close2}\n",
    "df_mid_small_300 = pd.DataFrame(mid_small_300)\n",
    "df_mid_small_300"
   ],
   "metadata": {
    "collapsed": false
   }
  },
  {
   "cell_type": "code",
   "execution_count": 42,
   "outputs": [
    {
     "name": "stderr",
     "output_type": "stream",
     "text": [
      "C:\\ProgramData\\Anaconda3\\envs\\main.py\\lib\\site-packages\\pandas\\core\\frame.py:5039: SettingWithCopyWarning: \n",
      "A value is trying to be set on a copy of a slice from a DataFrame\n",
      "\n",
      "See the caveats in the documentation: https://pandas.pydata.org/pandas-docs/stable/user_guide/indexing.html#returning-a-view-versus-a-copy\n",
      "  return super().rename(\n",
      "C:\\ProgramData\\Anaconda3\\envs\\main.py\\lib\\site-packages\\pandas\\core\\generic.py:5516: SettingWithCopyWarning: \n",
      "A value is trying to be set on a copy of a slice from a DataFrame.\n",
      "Try using .loc[row_indexer,col_indexer] = value instead\n",
      "\n",
      "See the caveats in the documentation: https://pandas.pydata.org/pandas-docs/stable/user_guide/indexing.html#returning-a-view-versus-a-copy\n",
      "  self[name] = value\n"
     ]
    }
   ],
   "source": [
    "df_mid_small_300 = df_mid_small_300[['date', 'total_return_close']]\n",
    "df_mid_small_300.rename(columns = {'total_return_close':'mid_small_300'}, inplace=True)\n",
    "df_mid_small_300.date = pd.to_datetime(df_mid_small_300.date, format='%Y/%m/%d')\n",
    "df_mid_small_300 = df_mid_small_300.set_index(['date'])"
   ],
   "metadata": {
    "collapsed": false
   }
  },
  {
   "cell_type": "code",
   "execution_count": 43,
   "outputs": [
    {
     "data": {
      "text/plain": "           mid_small_300\ndate                    \n2018-12-24       5023.20\n2018-12-25       4959.28\n2018-12-26       4926.42\n2018-12-27       4993.35\n2018-12-28       5002.89\n...                  ...\n2023-06-02       11584.5\n2023-06-05      11666.34\n2023-06-06      11640.77\n2023-06-07      11727.12\n2023-06-08      11574.78\n\n[1081 rows x 1 columns]",
      "text/html": "<div>\n<style scoped>\n    .dataframe tbody tr th:only-of-type {\n        vertical-align: middle;\n    }\n\n    .dataframe tbody tr th {\n        vertical-align: top;\n    }\n\n    .dataframe thead th {\n        text-align: right;\n    }\n</style>\n<table border=\"1\" class=\"dataframe\">\n  <thead>\n    <tr style=\"text-align: right;\">\n      <th></th>\n      <th>mid_small_300</th>\n    </tr>\n    <tr>\n      <th>date</th>\n      <th></th>\n    </tr>\n  </thead>\n  <tbody>\n    <tr>\n      <th>2018-12-24</th>\n      <td>5023.20</td>\n    </tr>\n    <tr>\n      <th>2018-12-25</th>\n      <td>4959.28</td>\n    </tr>\n    <tr>\n      <th>2018-12-26</th>\n      <td>4926.42</td>\n    </tr>\n    <tr>\n      <th>2018-12-27</th>\n      <td>4993.35</td>\n    </tr>\n    <tr>\n      <th>2018-12-28</th>\n      <td>5002.89</td>\n    </tr>\n    <tr>\n      <th>...</th>\n      <td>...</td>\n    </tr>\n    <tr>\n      <th>2023-06-02</th>\n      <td>11584.5</td>\n    </tr>\n    <tr>\n      <th>2023-06-05</th>\n      <td>11666.34</td>\n    </tr>\n    <tr>\n      <th>2023-06-06</th>\n      <td>11640.77</td>\n    </tr>\n    <tr>\n      <th>2023-06-07</th>\n      <td>11727.12</td>\n    </tr>\n    <tr>\n      <th>2023-06-08</th>\n      <td>11574.78</td>\n    </tr>\n  </tbody>\n</table>\n<p>1081 rows × 1 columns</p>\n</div>"
     },
     "execution_count": 43,
     "metadata": {},
     "output_type": "execute_result"
    }
   ],
   "source": [
    "df_mid_small_300"
   ],
   "metadata": {
    "collapsed": false
   }
  },
  {
   "cell_type": "markdown",
   "source": [
    "### 小型300"
   ],
   "metadata": {
    "collapsed": false
   }
  },
  {
   "cell_type": "code",
   "execution_count": 12,
   "outputs": [
    {
     "name": "stdout",
     "output_type": "stream",
     "text": [
      "https://www.twse.com.tw/rwd/zh/TAIEX/SC300?response=html&date=20151201\n",
      "https://www.twse.com.tw/rwd/zh/TAIEX/SC300?response=html&date=20160101\n",
      "https://www.twse.com.tw/rwd/zh/TAIEX/SC300?response=html&date=20160201\n",
      "https://www.twse.com.tw/rwd/zh/TAIEX/SC300?response=html&date=20160301\n",
      "https://www.twse.com.tw/rwd/zh/TAIEX/SC300?response=html&date=20160401\n",
      "https://www.twse.com.tw/rwd/zh/TAIEX/SC300?response=html&date=20160501\n",
      "https://www.twse.com.tw/rwd/zh/TAIEX/SC300?response=html&date=20160601\n",
      "https://www.twse.com.tw/rwd/zh/TAIEX/SC300?response=html&date=20160701\n",
      "https://www.twse.com.tw/rwd/zh/TAIEX/SC300?response=html&date=20160801\n",
      "https://www.twse.com.tw/rwd/zh/TAIEX/SC300?response=html&date=20160901\n",
      "https://www.twse.com.tw/rwd/zh/TAIEX/SC300?response=html&date=20161001\n",
      "https://www.twse.com.tw/rwd/zh/TAIEX/SC300?response=html&date=20161101\n",
      "https://www.twse.com.tw/rwd/zh/TAIEX/SC300?response=html&date=20161201\n",
      "https://www.twse.com.tw/rwd/zh/TAIEX/SC300?response=html&date=20170101\n",
      "https://www.twse.com.tw/rwd/zh/TAIEX/SC300?response=html&date=20170201\n",
      "https://www.twse.com.tw/rwd/zh/TAIEX/SC300?response=html&date=20170301\n",
      "https://www.twse.com.tw/rwd/zh/TAIEX/SC300?response=html&date=20170401\n",
      "https://www.twse.com.tw/rwd/zh/TAIEX/SC300?response=html&date=20170501\n",
      "https://www.twse.com.tw/rwd/zh/TAIEX/SC300?response=html&date=20170601\n",
      "https://www.twse.com.tw/rwd/zh/TAIEX/SC300?response=html&date=20170701\n",
      "https://www.twse.com.tw/rwd/zh/TAIEX/SC300?response=html&date=20170801\n",
      "https://www.twse.com.tw/rwd/zh/TAIEX/SC300?response=html&date=20170901\n",
      "https://www.twse.com.tw/rwd/zh/TAIEX/SC300?response=html&date=20171001\n",
      "https://www.twse.com.tw/rwd/zh/TAIEX/SC300?response=html&date=20171101\n",
      "https://www.twse.com.tw/rwd/zh/TAIEX/SC300?response=html&date=20171201\n",
      "https://www.twse.com.tw/rwd/zh/TAIEX/SC300?response=html&date=20180101\n",
      "https://www.twse.com.tw/rwd/zh/TAIEX/SC300?response=html&date=20180201\n",
      "https://www.twse.com.tw/rwd/zh/TAIEX/SC300?response=html&date=20180301\n",
      "https://www.twse.com.tw/rwd/zh/TAIEX/SC300?response=html&date=20180401\n",
      "https://www.twse.com.tw/rwd/zh/TAIEX/SC300?response=html&date=20180501\n",
      "https://www.twse.com.tw/rwd/zh/TAIEX/SC300?response=html&date=20180601\n",
      "https://www.twse.com.tw/rwd/zh/TAIEX/SC300?response=html&date=20180701\n",
      "https://www.twse.com.tw/rwd/zh/TAIEX/SC300?response=html&date=20180801\n",
      "https://www.twse.com.tw/rwd/zh/TAIEX/SC300?response=html&date=20180901\n",
      "https://www.twse.com.tw/rwd/zh/TAIEX/SC300?response=html&date=20181001\n",
      "https://www.twse.com.tw/rwd/zh/TAIEX/SC300?response=html&date=20181101\n",
      "https://www.twse.com.tw/rwd/zh/TAIEX/SC300?response=html&date=20181201\n",
      "https://www.twse.com.tw/rwd/zh/TAIEX/SC300?response=html&date=20190101\n",
      "https://www.twse.com.tw/rwd/zh/TAIEX/SC300?response=html&date=20190201\n",
      "https://www.twse.com.tw/rwd/zh/TAIEX/SC300?response=html&date=20190301\n",
      "https://www.twse.com.tw/rwd/zh/TAIEX/SC300?response=html&date=20190401\n",
      "https://www.twse.com.tw/rwd/zh/TAIEX/SC300?response=html&date=20190501\n",
      "https://www.twse.com.tw/rwd/zh/TAIEX/SC300?response=html&date=20190601\n",
      "https://www.twse.com.tw/rwd/zh/TAIEX/SC300?response=html&date=20190701\n",
      "https://www.twse.com.tw/rwd/zh/TAIEX/SC300?response=html&date=20190801\n",
      "https://www.twse.com.tw/rwd/zh/TAIEX/SC300?response=html&date=20190901\n",
      "https://www.twse.com.tw/rwd/zh/TAIEX/SC300?response=html&date=20191001\n",
      "https://www.twse.com.tw/rwd/zh/TAIEX/SC300?response=html&date=20191101\n",
      "https://www.twse.com.tw/rwd/zh/TAIEX/SC300?response=html&date=20191201\n",
      "https://www.twse.com.tw/rwd/zh/TAIEX/SC300?response=html&date=20200101\n",
      "https://www.twse.com.tw/rwd/zh/TAIEX/SC300?response=html&date=20200201\n",
      "https://www.twse.com.tw/rwd/zh/TAIEX/SC300?response=html&date=20200301\n",
      "https://www.twse.com.tw/rwd/zh/TAIEX/SC300?response=html&date=20200401\n",
      "https://www.twse.com.tw/rwd/zh/TAIEX/SC300?response=html&date=20200501\n",
      "https://www.twse.com.tw/rwd/zh/TAIEX/SC300?response=html&date=20200601\n",
      "https://www.twse.com.tw/rwd/zh/TAIEX/SC300?response=html&date=20200701\n",
      "https://www.twse.com.tw/rwd/zh/TAIEX/SC300?response=html&date=20200801\n",
      "https://www.twse.com.tw/rwd/zh/TAIEX/SC300?response=html&date=20200901\n",
      "https://www.twse.com.tw/rwd/zh/TAIEX/SC300?response=html&date=20201001\n",
      "https://www.twse.com.tw/rwd/zh/TAIEX/SC300?response=html&date=20201101\n",
      "https://www.twse.com.tw/rwd/zh/TAIEX/SC300?response=html&date=20201201\n",
      "https://www.twse.com.tw/rwd/zh/TAIEX/SC300?response=html&date=20210101\n",
      "https://www.twse.com.tw/rwd/zh/TAIEX/SC300?response=html&date=20210201\n",
      "https://www.twse.com.tw/rwd/zh/TAIEX/SC300?response=html&date=20210301\n",
      "https://www.twse.com.tw/rwd/zh/TAIEX/SC300?response=html&date=20210401\n",
      "https://www.twse.com.tw/rwd/zh/TAIEX/SC300?response=html&date=20210501\n",
      "https://www.twse.com.tw/rwd/zh/TAIEX/SC300?response=html&date=20210601\n",
      "https://www.twse.com.tw/rwd/zh/TAIEX/SC300?response=html&date=20210701\n",
      "https://www.twse.com.tw/rwd/zh/TAIEX/SC300?response=html&date=20210801\n",
      "https://www.twse.com.tw/rwd/zh/TAIEX/SC300?response=html&date=20210901\n",
      "https://www.twse.com.tw/rwd/zh/TAIEX/SC300?response=html&date=20211001\n",
      "https://www.twse.com.tw/rwd/zh/TAIEX/SC300?response=html&date=20211101\n",
      "https://www.twse.com.tw/rwd/zh/TAIEX/SC300?response=html&date=20211201\n",
      "https://www.twse.com.tw/rwd/zh/TAIEX/SC300?response=html&date=20220101\n",
      "https://www.twse.com.tw/rwd/zh/TAIEX/SC300?response=html&date=20220201\n",
      "https://www.twse.com.tw/rwd/zh/TAIEX/SC300?response=html&date=20220301\n",
      "https://www.twse.com.tw/rwd/zh/TAIEX/SC300?response=html&date=20220401\n",
      "https://www.twse.com.tw/rwd/zh/TAIEX/SC300?response=html&date=20220501\n",
      "https://www.twse.com.tw/rwd/zh/TAIEX/SC300?response=html&date=20220601\n",
      "https://www.twse.com.tw/rwd/zh/TAIEX/SC300?response=html&date=20220701\n",
      "https://www.twse.com.tw/rwd/zh/TAIEX/SC300?response=html&date=20220801\n",
      "https://www.twse.com.tw/rwd/zh/TAIEX/SC300?response=html&date=20220901\n",
      "https://www.twse.com.tw/rwd/zh/TAIEX/SC300?response=html&date=20221001\n",
      "https://www.twse.com.tw/rwd/zh/TAIEX/SC300?response=html&date=20221101\n",
      "https://www.twse.com.tw/rwd/zh/TAIEX/SC300?response=html&date=20221201\n",
      "https://www.twse.com.tw/rwd/zh/TAIEX/SC300?response=html&date=20230101\n",
      "https://www.twse.com.tw/rwd/zh/TAIEX/SC300?response=html&date=20230201\n",
      "https://www.twse.com.tw/rwd/zh/TAIEX/SC300?response=html&date=20230301\n",
      "https://www.twse.com.tw/rwd/zh/TAIEX/SC300?response=html&date=20230401\n",
      "https://www.twse.com.tw/rwd/zh/TAIEX/SC300?response=html&date=20230501\n",
      "https://www.twse.com.tw/rwd/zh/TAIEX/SC300?response=html&date=20230601\n",
      "https://www.twse.com.tw/rwd/zh/TAIEX/SC300?response=html&date=20230701\n",
      "finish dfs\n"
     ]
    },
    {
     "name": "stderr",
     "output_type": "stream",
     "text": [
      "C:\\Users\\s8600\\AppData\\Local\\Temp/ipykernel_9956/2710004346.py:33: SettingWithCopyWarning: \n",
      "A value is trying to be set on a copy of a slice from a DataFrame\n",
      "\n",
      "See the caveats in the documentation: https://pandas.pydata.org/pandas-docs/stable/user_guide/indexing.html#returning-a-view-versus-a-copy\n",
      "  dfs_300.date[i]=str(int(sp[0])+1911) + '/' + sp[1]  + '/' + sp[2]\n"
     ]
    },
    {
     "data": {
      "text/plain": "            date    close  total_return_close\n0     2015/12/14  5000.00             5000.00\n1     2015/12/15  5058.18             5058.18\n2     2015/12/16  5120.43             5120.43\n3     2015/12/17  5180.56             5180.56\n4     2015/12/18  5163.49             5163.49\n...          ...      ...                 ...\n1822  2023/06/02  9510.17            12655.98\n1823  2023/06/05  9587.26            12758.56\n1824  2023/06/06  9562.50            12727.51\n1825  2023/06/07  9633.89            12825.18\n1826  2023/06/08  9560.40            12732.71\n\n[1827 rows x 3 columns]",
      "text/html": "<div>\n<style scoped>\n    .dataframe tbody tr th:only-of-type {\n        vertical-align: middle;\n    }\n\n    .dataframe tbody tr th {\n        vertical-align: top;\n    }\n\n    .dataframe thead th {\n        text-align: right;\n    }\n</style>\n<table border=\"1\" class=\"dataframe\">\n  <thead>\n    <tr style=\"text-align: right;\">\n      <th></th>\n      <th>date</th>\n      <th>close</th>\n      <th>total_return_close</th>\n    </tr>\n  </thead>\n  <tbody>\n    <tr>\n      <th>0</th>\n      <td>2015/12/14</td>\n      <td>5000.00</td>\n      <td>5000.00</td>\n    </tr>\n    <tr>\n      <th>1</th>\n      <td>2015/12/15</td>\n      <td>5058.18</td>\n      <td>5058.18</td>\n    </tr>\n    <tr>\n      <th>2</th>\n      <td>2015/12/16</td>\n      <td>5120.43</td>\n      <td>5120.43</td>\n    </tr>\n    <tr>\n      <th>3</th>\n      <td>2015/12/17</td>\n      <td>5180.56</td>\n      <td>5180.56</td>\n    </tr>\n    <tr>\n      <th>4</th>\n      <td>2015/12/18</td>\n      <td>5163.49</td>\n      <td>5163.49</td>\n    </tr>\n    <tr>\n      <th>...</th>\n      <td>...</td>\n      <td>...</td>\n      <td>...</td>\n    </tr>\n    <tr>\n      <th>1822</th>\n      <td>2023/06/02</td>\n      <td>9510.17</td>\n      <td>12655.98</td>\n    </tr>\n    <tr>\n      <th>1823</th>\n      <td>2023/06/05</td>\n      <td>9587.26</td>\n      <td>12758.56</td>\n    </tr>\n    <tr>\n      <th>1824</th>\n      <td>2023/06/06</td>\n      <td>9562.50</td>\n      <td>12727.51</td>\n    </tr>\n    <tr>\n      <th>1825</th>\n      <td>2023/06/07</td>\n      <td>9633.89</td>\n      <td>12825.18</td>\n    </tr>\n    <tr>\n      <th>1826</th>\n      <td>2023/06/08</td>\n      <td>9560.40</td>\n      <td>12732.71</td>\n    </tr>\n  </tbody>\n</table>\n<p>1827 rows × 3 columns</p>\n</div>"
     },
     "execution_count": 12,
     "metadata": {},
     "output_type": "execute_result"
    }
   ],
   "source": [
    "dfs_300 = pd.DataFrame(columns=['date', 'close', 'total_return_close'])#建立DataFrame\n",
    "for i in range(2015,2024,1):\n",
    "    for j in range(0,12,1):\n",
    "        if i == 2015 and j < 11:\n",
    "            continue\n",
    "        #請求網站\n",
    "        url=\"https://www.twse.com.tw/rwd/zh/TAIEX/SC300?response=html&date=\"+str(i)+month_list[j]+\"01\"\n",
    "        print(url)\n",
    "        if i == 2023 and month_list[j] == '07':\n",
    "            print('finish dfs')\n",
    "            break\n",
    "        res = requests.get(url)\n",
    "        time.sleep(random.uniform(0.1,2.1))\n",
    "        #解析網站\n",
    "        soup = bs4.BeautifulSoup(res.text,\"html.parser\")\n",
    "\n",
    "        #取得table並整理\n",
    "        data = soup.select('table')[0]\n",
    "        df = pd.read_html(data.prettify())[0]\n",
    "        df.columns=df.columns.get_level_values(1)\n",
    "        df.columns=[u'date',u'close',u'total_return_close']\n",
    "\n",
    "        #合併DataFrame到dfs\n",
    "        dfs_300 = pd.concat([dfs_300,df],ignore_index=True)\n",
    "\n",
    "        #使用隨機間隔時間抓取網站，避免被鎖\n",
    "        time.sleep(random.uniform(1.1,5.5))\n",
    "\n",
    "\n",
    "#將調整民國年調整成西元年\n",
    "for i in range(len(dfs_300.date)):\n",
    "    sp = dfs_300.date[i].split('/')\n",
    "    dfs_300.date[i]=str(int(sp[0])+1911) + '/' + sp[1]  + '/' + sp[2]\n",
    "\n",
    "dfs_300"
   ],
   "metadata": {
    "collapsed": false
   }
  },
  {
   "cell_type": "code",
   "execution_count": 50,
   "outputs": [
    {
     "name": "stderr",
     "output_type": "stream",
     "text": [
      "C:\\ProgramData\\Anaconda3\\envs\\main.py\\lib\\site-packages\\pandas\\core\\frame.py:5039: SettingWithCopyWarning: \n",
      "A value is trying to be set on a copy of a slice from a DataFrame\n",
      "\n",
      "See the caveats in the documentation: https://pandas.pydata.org/pandas-docs/stable/user_guide/indexing.html#returning-a-view-versus-a-copy\n",
      "  return super().rename(\n",
      "C:\\ProgramData\\Anaconda3\\envs\\main.py\\lib\\site-packages\\pandas\\core\\generic.py:5516: SettingWithCopyWarning: \n",
      "A value is trying to be set on a copy of a slice from a DataFrame.\n",
      "Try using .loc[row_indexer,col_indexer] = value instead\n",
      "\n",
      "See the caveats in the documentation: https://pandas.pydata.org/pandas-docs/stable/user_guide/indexing.html#returning-a-view-versus-a-copy\n",
      "  self[name] = value\n"
     ]
    }
   ],
   "source": [
    "dfs_300 = dfs_300[['date', 'total_return_close']]\n",
    "dfs_300.rename(columns = {'total_return_close':'small_300'}, inplace=True)\n",
    "dfs_300.date = pd.to_datetime(dfs_300.date, format='%Y/%m/%d')\n",
    "dfs_300 = dfs_300.set_index(['date'])"
   ],
   "metadata": {
    "collapsed": false
   }
  },
  {
   "cell_type": "code",
   "execution_count": 51,
   "outputs": [
    {
     "data": {
      "text/plain": "            small_300\ndate                 \n2015-12-14    5000.00\n2015-12-15    5058.18\n2015-12-16    5120.43\n2015-12-17    5180.56\n2015-12-18    5163.49\n...               ...\n2023-06-02   12655.98\n2023-06-05   12758.56\n2023-06-06   12727.51\n2023-06-07   12825.18\n2023-06-08   12732.71\n\n[1827 rows x 1 columns]",
      "text/html": "<div>\n<style scoped>\n    .dataframe tbody tr th:only-of-type {\n        vertical-align: middle;\n    }\n\n    .dataframe tbody tr th {\n        vertical-align: top;\n    }\n\n    .dataframe thead th {\n        text-align: right;\n    }\n</style>\n<table border=\"1\" class=\"dataframe\">\n  <thead>\n    <tr style=\"text-align: right;\">\n      <th></th>\n      <th>small_300</th>\n    </tr>\n    <tr>\n      <th>date</th>\n      <th></th>\n    </tr>\n  </thead>\n  <tbody>\n    <tr>\n      <th>2015-12-14</th>\n      <td>5000.00</td>\n    </tr>\n    <tr>\n      <th>2015-12-15</th>\n      <td>5058.18</td>\n    </tr>\n    <tr>\n      <th>2015-12-16</th>\n      <td>5120.43</td>\n    </tr>\n    <tr>\n      <th>2015-12-17</th>\n      <td>5180.56</td>\n    </tr>\n    <tr>\n      <th>2015-12-18</th>\n      <td>5163.49</td>\n    </tr>\n    <tr>\n      <th>...</th>\n      <td>...</td>\n    </tr>\n    <tr>\n      <th>2023-06-02</th>\n      <td>12655.98</td>\n    </tr>\n    <tr>\n      <th>2023-06-05</th>\n      <td>12758.56</td>\n    </tr>\n    <tr>\n      <th>2023-06-06</th>\n      <td>12727.51</td>\n    </tr>\n    <tr>\n      <th>2023-06-07</th>\n      <td>12825.18</td>\n    </tr>\n    <tr>\n      <th>2023-06-08</th>\n      <td>12732.71</td>\n    </tr>\n  </tbody>\n</table>\n<p>1827 rows × 1 columns</p>\n</div>"
     },
     "execution_count": 51,
     "metadata": {},
     "output_type": "execute_result"
    }
   ],
   "source": [
    "dfs_300"
   ],
   "metadata": {
    "collapsed": false
   }
  },
  {
   "cell_type": "markdown",
   "source": [
    "### 合併表格"
   ],
   "metadata": {
    "collapsed": false
   }
  },
  {
   "cell_type": "code",
   "execution_count": 129,
   "outputs": [
    {
     "data": {
      "text/plain": "             mid_100\ndate                \n2004-11-29   6068.04\n2004-11-30   6122.14\n2004-12-01   6088.06\n2004-12-02   6140.02\n2004-12-03   6155.66\n...              ...\n2023-06-02  30571.09\n2023-06-05  30827.80\n2023-06-06  30767.48\n2023-06-07  31015.00\n2023-06-08  30558.49\n\n[4578 rows x 1 columns]",
      "text/html": "<div>\n<style scoped>\n    .dataframe tbody tr th:only-of-type {\n        vertical-align: middle;\n    }\n\n    .dataframe tbody tr th {\n        vertical-align: top;\n    }\n\n    .dataframe thead th {\n        text-align: right;\n    }\n</style>\n<table border=\"1\" class=\"dataframe\">\n  <thead>\n    <tr style=\"text-align: right;\">\n      <th></th>\n      <th>mid_100</th>\n    </tr>\n    <tr>\n      <th>date</th>\n      <th></th>\n    </tr>\n  </thead>\n  <tbody>\n    <tr>\n      <th>2004-11-29</th>\n      <td>6068.04</td>\n    </tr>\n    <tr>\n      <th>2004-11-30</th>\n      <td>6122.14</td>\n    </tr>\n    <tr>\n      <th>2004-12-01</th>\n      <td>6088.06</td>\n    </tr>\n    <tr>\n      <th>2004-12-02</th>\n      <td>6140.02</td>\n    </tr>\n    <tr>\n      <th>2004-12-03</th>\n      <td>6155.66</td>\n    </tr>\n    <tr>\n      <th>...</th>\n      <td>...</td>\n    </tr>\n    <tr>\n      <th>2023-06-02</th>\n      <td>30571.09</td>\n    </tr>\n    <tr>\n      <th>2023-06-05</th>\n      <td>30827.80</td>\n    </tr>\n    <tr>\n      <th>2023-06-06</th>\n      <td>30767.48</td>\n    </tr>\n    <tr>\n      <th>2023-06-07</th>\n      <td>31015.00</td>\n    </tr>\n    <tr>\n      <th>2023-06-08</th>\n      <td>30558.49</td>\n    </tr>\n  </tbody>\n</table>\n<p>4578 rows × 1 columns</p>\n</div>"
     },
     "execution_count": 129,
     "metadata": {},
     "output_type": "execute_result"
    }
   ],
   "source": [
    "dfs_100"
   ],
   "metadata": {
    "collapsed": false
   }
  },
  {
   "cell_type": "code",
   "execution_count": 144,
   "outputs": [],
   "source": [
    "data_frames = [dfs, dfs_50, dfs_100, df_mid_small_300, dfs_300]"
   ],
   "metadata": {
    "collapsed": false
   }
  },
  {
   "cell_type": "code",
   "execution_count": 145,
   "outputs": [],
   "source": [
    "df_all = reduce(lambda left, right: pd.merge(left, right, right_index=True, left_index=True, how='outer'), data_frames)\n",
    "df_all.to_csv('C:\\Python\\Data\\Fubon_project_data.csv', index=True)"
   ],
   "metadata": {
    "collapsed": false
   }
  },
  {
   "cell_type": "code",
   "execution_count": 146,
   "outputs": [
    {
     "data": {
      "text/plain": "               TAIEX     TW_50   mid_100 mid_small_300  small_300\ndate                                                             \n2003-01-02   4524.92   3356.61       NaN           NaN        NaN\n2003-01-03   4626.36   3449.78       NaN           NaN        NaN\n2003-01-06   4690.26   3484.11       NaN           NaN        NaN\n2003-01-07   4701.48   3504.81       NaN           NaN        NaN\n2003-01-08   4837.35   3593.49       NaN           NaN        NaN\n...              ...       ...       ...           ...        ...\n2023-06-02  34853.76  26573.65  30571.09       11584.5   12655.98\n2023-06-05  34875.44  26478.10  30827.80      11666.34   12758.56\n2023-06-06  34979.10  26620.97  30767.48      11640.77   12727.51\n2023-06-07  35320.33  26933.48  31015.00      11727.12   12825.18\n2023-06-08  34928.14  26624.97  30558.49      11574.78   12732.71\n\n[5052 rows x 5 columns]",
      "text/html": "<div>\n<style scoped>\n    .dataframe tbody tr th:only-of-type {\n        vertical-align: middle;\n    }\n\n    .dataframe tbody tr th {\n        vertical-align: top;\n    }\n\n    .dataframe thead th {\n        text-align: right;\n    }\n</style>\n<table border=\"1\" class=\"dataframe\">\n  <thead>\n    <tr style=\"text-align: right;\">\n      <th></th>\n      <th>TAIEX</th>\n      <th>TW_50</th>\n      <th>mid_100</th>\n      <th>mid_small_300</th>\n      <th>small_300</th>\n    </tr>\n    <tr>\n      <th>date</th>\n      <th></th>\n      <th></th>\n      <th></th>\n      <th></th>\n      <th></th>\n    </tr>\n  </thead>\n  <tbody>\n    <tr>\n      <th>2003-01-02</th>\n      <td>4524.92</td>\n      <td>3356.61</td>\n      <td>NaN</td>\n      <td>NaN</td>\n      <td>NaN</td>\n    </tr>\n    <tr>\n      <th>2003-01-03</th>\n      <td>4626.36</td>\n      <td>3449.78</td>\n      <td>NaN</td>\n      <td>NaN</td>\n      <td>NaN</td>\n    </tr>\n    <tr>\n      <th>2003-01-06</th>\n      <td>4690.26</td>\n      <td>3484.11</td>\n      <td>NaN</td>\n      <td>NaN</td>\n      <td>NaN</td>\n    </tr>\n    <tr>\n      <th>2003-01-07</th>\n      <td>4701.48</td>\n      <td>3504.81</td>\n      <td>NaN</td>\n      <td>NaN</td>\n      <td>NaN</td>\n    </tr>\n    <tr>\n      <th>2003-01-08</th>\n      <td>4837.35</td>\n      <td>3593.49</td>\n      <td>NaN</td>\n      <td>NaN</td>\n      <td>NaN</td>\n    </tr>\n    <tr>\n      <th>...</th>\n      <td>...</td>\n      <td>...</td>\n      <td>...</td>\n      <td>...</td>\n      <td>...</td>\n    </tr>\n    <tr>\n      <th>2023-06-02</th>\n      <td>34853.76</td>\n      <td>26573.65</td>\n      <td>30571.09</td>\n      <td>11584.5</td>\n      <td>12655.98</td>\n    </tr>\n    <tr>\n      <th>2023-06-05</th>\n      <td>34875.44</td>\n      <td>26478.10</td>\n      <td>30827.80</td>\n      <td>11666.34</td>\n      <td>12758.56</td>\n    </tr>\n    <tr>\n      <th>2023-06-06</th>\n      <td>34979.10</td>\n      <td>26620.97</td>\n      <td>30767.48</td>\n      <td>11640.77</td>\n      <td>12727.51</td>\n    </tr>\n    <tr>\n      <th>2023-06-07</th>\n      <td>35320.33</td>\n      <td>26933.48</td>\n      <td>31015.00</td>\n      <td>11727.12</td>\n      <td>12825.18</td>\n    </tr>\n    <tr>\n      <th>2023-06-08</th>\n      <td>34928.14</td>\n      <td>26624.97</td>\n      <td>30558.49</td>\n      <td>11574.78</td>\n      <td>12732.71</td>\n    </tr>\n  </tbody>\n</table>\n<p>5052 rows × 5 columns</p>\n</div>"
     },
     "execution_count": 146,
     "metadata": {},
     "output_type": "execute_result"
    }
   ],
   "source": [
    "df_all"
   ],
   "metadata": {
    "collapsed": false
   }
  },
  {
   "cell_type": "markdown",
   "source": [
    "### 重新載入資料"
   ],
   "metadata": {
    "collapsed": false
   }
  },
  {
   "cell_type": "code",
   "execution_count": 3,
   "outputs": [],
   "source": [
    "df_all = pd.read_csv('C:\\Python\\Data\\Fubon_project_data.csv', index_col=0, na_values='n/a')"
   ],
   "metadata": {
    "collapsed": false
   }
  },
  {
   "cell_type": "code",
   "execution_count": 4,
   "outputs": [
    {
     "data": {
      "text/plain": "<Figure size 1500x800 with 1 Axes>",
      "image/png": "[encoded data removed]"
     },
     "metadata": {},
     "output_type": "display_data"
    }
   ],
   "source": [
    "df_all.plot(grid=True, figsize=(15, 8), fontsize=12, linewidth=2, x_compat=True)\n",
    "plt.show()"
   ],
   "metadata": {
    "collapsed": false
   }
  },
  {
   "cell_type": "code",
   "execution_count": null,
   "outputs": [],
   "source": [],
   "metadata": {
    "collapsed": false
   }
  }
 ],
 "metadata": {
  "kernelspec": {
   "display_name": "Python 3",
   "language": "python",
   "name": "python3"
  },
  "language_info": {
   "codemirror_mode": {
    "name": "ipython",
    "version": 2
   },
   "file_extension": ".py",
   "mimetype": "text/x-python",
   "name": "python",
   "nbconvert_exporter": "python",
   "pygments_lexer": "ipython2",
   "version": "2.7.6"
  }
 },
 "nbformat": 4,
 "nbformat_minor": 0
}
